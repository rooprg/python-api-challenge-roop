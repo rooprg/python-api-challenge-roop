{
 "cells": [
  {
   "cell_type": "markdown",
   "metadata": {},
   "source": [
    "# VacationPy\n",
    "---\n",
    "\n",
    "## Starter Code to Import Libraries and Load the Weather and Coordinates Data"
   ]
  },
  {
   "cell_type": "code",
   "execution_count": 17,
   "metadata": {},
   "outputs": [],
   "source": [
    "# Dependencies and Setup\n",
    "import hvplot.pandas\n",
    "import pandas as pd\n",
    "import requests\n",
    "\n",
    "# Import API key\n",
    "from api_keys import geoapify_key"
   ]
  },
  {
   "cell_type": "code",
   "execution_count": 18,
   "metadata": {},
   "outputs": [
    {
     "data": {
      "text/html": [
       "<div>\n",
       "<style scoped>\n",
       "    .dataframe tbody tr th:only-of-type {\n",
       "        vertical-align: middle;\n",
       "    }\n",
       "\n",
       "    .dataframe tbody tr th {\n",
       "        vertical-align: top;\n",
       "    }\n",
       "\n",
       "    .dataframe thead th {\n",
       "        text-align: right;\n",
       "    }\n",
       "</style>\n",
       "<table border=\"1\" class=\"dataframe\">\n",
       "  <thead>\n",
       "    <tr style=\"text-align: right;\">\n",
       "      <th></th>\n",
       "      <th>City_ID</th>\n",
       "      <th>City</th>\n",
       "      <th>Lat</th>\n",
       "      <th>Lng</th>\n",
       "      <th>Max Temp</th>\n",
       "      <th>Humidity</th>\n",
       "      <th>Cloudiness</th>\n",
       "      <th>Wind Speed</th>\n",
       "      <th>Country</th>\n",
       "      <th>Date</th>\n",
       "    </tr>\n",
       "  </thead>\n",
       "  <tbody>\n",
       "    <tr>\n",
       "      <th>0</th>\n",
       "      <td>0</td>\n",
       "      <td>polyarnyy</td>\n",
       "      <td>69.1989</td>\n",
       "      <td>33.4478</td>\n",
       "      <td>21.16</td>\n",
       "      <td>73</td>\n",
       "      <td>90</td>\n",
       "      <td>6.02</td>\n",
       "      <td>RU</td>\n",
       "      <td>1715119749</td>\n",
       "    </tr>\n",
       "    <tr>\n",
       "      <th>1</th>\n",
       "      <td>1</td>\n",
       "      <td>timimoun</td>\n",
       "      <td>29.2639</td>\n",
       "      <td>0.2310</td>\n",
       "      <td>86.92</td>\n",
       "      <td>6</td>\n",
       "      <td>54</td>\n",
       "      <td>5.26</td>\n",
       "      <td>DZ</td>\n",
       "      <td>1715119749</td>\n",
       "    </tr>\n",
       "    <tr>\n",
       "      <th>2</th>\n",
       "      <td>2</td>\n",
       "      <td>perelyub</td>\n",
       "      <td>51.8667</td>\n",
       "      <td>50.3667</td>\n",
       "      <td>56.71</td>\n",
       "      <td>45</td>\n",
       "      <td>65</td>\n",
       "      <td>12.75</td>\n",
       "      <td>RU</td>\n",
       "      <td>1715119749</td>\n",
       "    </tr>\n",
       "    <tr>\n",
       "      <th>3</th>\n",
       "      <td>3</td>\n",
       "      <td>tiksi</td>\n",
       "      <td>71.6872</td>\n",
       "      <td>128.8694</td>\n",
       "      <td>29.48</td>\n",
       "      <td>98</td>\n",
       "      <td>100</td>\n",
       "      <td>9.37</td>\n",
       "      <td>RU</td>\n",
       "      <td>1715119749</td>\n",
       "    </tr>\n",
       "    <tr>\n",
       "      <th>4</th>\n",
       "      <td>4</td>\n",
       "      <td>waitangi</td>\n",
       "      <td>-43.9535</td>\n",
       "      <td>-176.5597</td>\n",
       "      <td>50.83</td>\n",
       "      <td>74</td>\n",
       "      <td>21</td>\n",
       "      <td>1.99</td>\n",
       "      <td>NZ</td>\n",
       "      <td>1715119749</td>\n",
       "    </tr>\n",
       "  </tbody>\n",
       "</table>\n",
       "</div>"
      ],
      "text/plain": [
       "   City_ID       City      Lat       Lng  Max Temp  Humidity  Cloudiness  \\\n",
       "0        0  polyarnyy  69.1989   33.4478     21.16        73          90   \n",
       "1        1   timimoun  29.2639    0.2310     86.92         6          54   \n",
       "2        2   perelyub  51.8667   50.3667     56.71        45          65   \n",
       "3        3      tiksi  71.6872  128.8694     29.48        98         100   \n",
       "4        4   waitangi -43.9535 -176.5597     50.83        74          21   \n",
       "\n",
       "   Wind Speed Country        Date  \n",
       "0        6.02      RU  1715119749  \n",
       "1        5.26      DZ  1715119749  \n",
       "2       12.75      RU  1715119749  \n",
       "3        9.37      RU  1715119749  \n",
       "4        1.99      NZ  1715119749  "
      ]
     },
     "execution_count": 18,
     "metadata": {},
     "output_type": "execute_result"
    }
   ],
   "source": [
    "# Load the CSV file created in Part 1 into a Pandas DataFrame\n",
    "city_data_df = pd.read_csv(\"../output_data/cities.csv\")\n",
    "\n",
    "# Display sample data\n",
    "city_data_df.head()"
   ]
  },
  {
   "cell_type": "markdown",
   "metadata": {},
   "source": [
    "---\n",
    "\n",
    "### Step 1: Create a map that displays a point for every city in the `city_data_df` DataFrame. The size of the point should be the humidity in each city."
   ]
  },
  {
   "cell_type": "code",
   "execution_count": 19,
   "metadata": {},
   "outputs": [
    {
     "data": {},
     "metadata": {},
     "output_type": "display_data"
    },
    {
     "data": {
      "application/vnd.holoviews_exec.v0+json": "",
      "text/html": [
       "<div id='p1207'>\n",
       "  <div id=\"b9894ea9-a4b2-4fd7-8cb6-51f9dec1f090\" data-root-id=\"p1207\" style=\"display: contents;\"></div>\n",
       "</div>\n",
       "<script type=\"application/javascript\">(function(root) {\n",
       "  var docs_json = {\"81428e3b-72aa-4c25-b88f-9c49443a105f\":{\"version\":\"3.4.0\",\"title\":\"Bokeh Application\",\"roots\":[{\"type\":\"object\",\"name\":\"Row\",\"id\":\"p1207\",\"attributes\":{\"name\":\"Row01977\",\"tags\":[\"embedded\"],\"stylesheets\":[\"\\n:host(.pn-loading):before, .pn-loading:before {\\n  background-color: #c3c3c3;\\n  mask-size: auto calc(min(50%, 400px));\\n  -webkit-mask-size: auto calc(min(50%, 400px));\\n}\",{\"type\":\"object\",\"name\":\"ImportedStyleSheet\",\"id\":\"p1210\",\"attributes\":{\"url\":\"https://cdn.holoviz.org/panel/1.4.1/dist/css/loading.css\"}},{\"type\":\"object\",\"name\":\"ImportedStyleSheet\",\"id\":\"p1299\",\"attributes\":{\"url\":\"https://cdn.holoviz.org/panel/1.4.1/dist/css/listpanel.css\"}},{\"type\":\"object\",\"name\":\"ImportedStyleSheet\",\"id\":\"p1208\",\"attributes\":{\"url\":\"https://cdn.holoviz.org/panel/1.4.1/dist/bundled/theme/default.css\"}},{\"type\":\"object\",\"name\":\"ImportedStyleSheet\",\"id\":\"p1209\",\"attributes\":{\"url\":\"https://cdn.holoviz.org/panel/1.4.1/dist/bundled/theme/native.css\"}}],\"margin\":0,\"sizing_mode\":\"stretch_width\",\"align\":\"start\",\"children\":[{\"type\":\"object\",\"name\":\"Spacer\",\"id\":\"p1211\",\"attributes\":{\"name\":\"HSpacer01983\",\"stylesheets\":[\"\\n:host(.pn-loading):before, .pn-loading:before {\\n  background-color: #c3c3c3;\\n  mask-size: auto calc(min(50%, 400px));\\n  -webkit-mask-size: auto calc(min(50%, 400px));\\n}\",{\"id\":\"p1210\"},{\"id\":\"p1208\"},{\"id\":\"p1209\"}],\"margin\":0,\"sizing_mode\":\"stretch_width\",\"align\":\"start\"}},{\"type\":\"object\",\"name\":\"Figure\",\"id\":\"p1240\",\"attributes\":{\"width\":null,\"height\":null,\"margin\":[5,10],\"sizing_mode\":\"fixed\",\"align\":\"start\",\"x_range\":{\"type\":\"object\",\"name\":\"Range1d\",\"id\":\"p1221\",\"attributes\":{\"tags\":[[[\"Longitude\",\"Longitude\",null]],[]],\"start\":-22618427.231720902,\"end\":22827908.24949568,\"reset_start\":-22618427.231720902,\"reset_end\":22827908.24949568,\"min_interval\":5}},\"y_range\":{\"type\":\"object\",\"name\":\"Range1d\",\"id\":\"p1222\",\"attributes\":{\"tags\":[[[\"Latitude\",\"Latitude\",null]],{\"type\":\"map\",\"entries\":[[\"invert_yaxis\",false],[\"autorange\",false]]}],\"start\":-13460554.285858482,\"end\":20624197.325053953,\"reset_start\":-13460554.285858482,\"reset_end\":20624197.325053953,\"min_interval\":5}},\"x_scale\":{\"type\":\"object\",\"name\":\"LinearScale\",\"id\":\"p1250\"},\"y_scale\":{\"type\":\"object\",\"name\":\"LinearScale\",\"id\":\"p1251\"},\"title\":{\"type\":\"object\",\"name\":\"Title\",\"id\":\"p1243\",\"attributes\":{\"text_color\":\"black\",\"text_font_size\":\"12pt\"}},\"renderers\":[{\"type\":\"object\",\"name\":\"TileRenderer\",\"id\":\"p1273\",\"attributes\":{\"level\":\"underlay\",\"tile_source\":{\"type\":\"object\",\"name\":\"WMTSTileSource\",\"id\":\"p1269\",\"attributes\":{\"url\":\"https://c.tile.openstreetmap.org/{Z}/{X}/{Y}.png\",\"attribution\":\"&copy; <a href=\\\"https://www.openstreetmap.org/copyright\\\">OpenStreetMap</a> contributors\"}}}},{\"type\":\"object\",\"name\":\"GlyphRenderer\",\"id\":\"p1289\",\"attributes\":{\"name\":\"color\",\"data_source\":{\"type\":\"object\",\"name\":\"ColumnDataSource\",\"id\":\"p1278\",\"attributes\":{\"selected\":{\"type\":\"object\",\"name\":\"Selection\",\"id\":\"p1279\",\"attributes\":{\"indices\":[],\"line_indices\":[]}},\"selection_policy\":{\"type\":\"object\",\"name\":\"UnionRenderers\",\"id\":\"p1280\"},\"data\":{\"type\":\"map\",\"entries\":[[\"Lng\",{\"type\":\"ndarray\",\"array\":{\"type\":\"bytes\",\"data\":\"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\"},\"shape\":[566],\"dtype\":\"float64\",\"order\":\"little\"}],[\"Lat\",{\"type\":\"ndarray\",\"array\":{\"type\":\"bytes\",\"data\":\"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\"},\"shape\":[566],\"dtype\":\"float64\",\"order\":\"little\"}],[\"City\",[\"polyarnyy\",\"timimoun\",\"perelyub\",\"tiksi\",\"waitangi\",\"papatowai\",\"bovalino\",\"constantia\",\"esquina\",\"sarpol-e zahab\",\"tazovsky\",\"kailua-kona\",\"nyurba\",\"north bend\",\"port blair\",\"blackmans bay\",\"bredasdorp\",\"puerto ayora\",\"muynoq\",\"talnakh\",\"turpan\",\"malakanagiri\",\"ust-nera\",\"anadyr\",\"bethel\",\"koryazhma\",\"thompson\",\"port alfred\",\"goure\",\"mount gambier\",\"fort bragg\",\"ilulissat\",\"nemuro\",\"happy valley-goose bay\",\"port-aux-francais\",\"minas de marcona\",\"ambon\",\"natal\",\"avarua\",\"adamstown\",\"aasiaat\",\"nantucket\",\"saint-pierre\",\"el porvenir\",\"saudarkrokur\",\"lipsko\",\"albany\",\"walvis bay\",\"dongola\",\"wailua homesteads\",\"shagonar\",\"college\",\"ageyevo\",\"belokurikha\",\"mont-dore\",\"siwa oasis\",\"stettler\",\"invercargill\",\"hasaki\",\"qaqortoq\",\"lihue\",\"stanley\",\"lander\",\"plastun\",\"kerikeri\",\"puerto natales\",\"cooma\",\"grytviken\",\"ghat\",\"zeya\",\"isafjordur\",\"iqaluit\",\"colonia\",\"hawaiian paradise park\",\"saynshand\",\"fort mcmurray\",\"isangel\",\"madingou\",\"hamilton\",\"haiku-pauwela\",\"georgetown\",\"whitehorse\",\"edinburgh of the seven seas\",\"hithadhoo\",\"tura\",\"pariaman\",\"badger\",\"awjilah\",\"alice springs\",\"ribeira grande\",\"hirara\",\"raja\",\"yetkul'\",\"utrik\",\"nova vicosa\",\"amga\",\"alofi\",\"sao gabriel da cachoeira\",\"ad dabbah\",\"yellowknife\",\"vila velha\",\"neftegorsk\",\"ta`u\",\"cill airne\",\"port lincoln\",\"palikir - national government center\",\"novobod\",\"belmonte\",\"petropavlovsk-kamchatsky\",\"port augusta\",\"minab\",\"west island\",\"aketi\",\"kingston\",\"peniche\",\"parchim\",\"chonchi\",\"cockburn town\",\"codrington\",\"mermoz boabab\",\"chukhloma\",\"nha trang\",\"port mathurin\",\"mejit\",\"nema\",\"taoudenni\",\"araguaina\",\"longyearbyen\",\"xiantao\",\"shenjiamen\",\"cannonvale\",\"arkhangel'sk\",\"judenburg\",\"saint-philippe\",\"margaret river\",\"san patricio\",\"puerto deseado\",\"chenaran\",\"dudinka\",\"ironwood\",\"olonkinbyen\",\"sisimiut\",\"ikalamavony\",\"felipe carrillo puerto\",\"hermanus\",\"karratha\",\"olyokminsk\",\"arraial do cabo\",\"vanimo\",\"ushuaia\",\"cidreira\",\"al fulah\",\"hassi messaoud\",\"ancud\",\"kani keli\",\"pont rouge\",\"fada\",\"berwick-upon-tweed\",\"murzuq\",\"bardai\",\"kalmunai\",\"mukalla\",\"chauk\",\"valparaiso\",\"ar rahad\",\"kem'\",\"nova sintra\",\"mangrol\",\"mek'ele\",\"port macquarie\",\"florence\",\"cururupu\",\"naze\",\"dokshytsy\",\"el granada\",\"weno\",\"uturoa\",\"maceio\",\"chinchilla\",\"sandnessjoen\",\"vernon\",\"yamada\",\"tsiombe\",\"fortuna\",\"dryden\",\"port saint john's\",\"trincomalee\",\"sao jose da coroa grande\",\"kargasok\",\"kuala terengganu\",\"omutinskiy\",\"khandyga\",\"saipan\",\"mwinilunga\",\"jiuquan\",\"rancho palos verdes\",\"keetmanshoop\",\"namibe\",\"port elizabeth\",\"frutal\",\"dergachi\",\"vadso\",\"brookings\",\"jamestown\",\"st. john's\",\"al lagowa\",\"inirida\",\"poyarkovo\",\"tommot\",\"qa'en\",\"alappuzha\",\"atafu village\",\"sarikei\",\"carutapera\",\"six-fours-les-plages\",\"iskateley\",\"kampung bukit tinggi, bentong\",\"lebu\",\"udachny\",\"wuzhou\",\"shiguai\",\"fumel\",\"selkirk\",\"zhezqazghan\",\"vilyuchinsk\",\"nar'yan-mar\",\"severo-yeniseyskiy\",\"touros\",\"axim\",\"kill devil hills\",\"thinadhoo\",\"inderbor\",\"lerwick\",\"kastsyukovichy\",\"al jawf\",\"khorugh\",\"tabuk\",\"magadan\",\"aktau\",\"skelleftea\",\"afaahiti\",\"vorgashor\",\"el nido\",\"kruisfontein\",\"sitka\",\"muromtsevo\",\"whitecourt\",\"sarh\",\"lazaro cardenas\",\"jarvenpaa\",\"punta arenas\",\"lucapa\",\"enewetak\",\"balaguer\",\"cabo san lucas\",\"cam ranh\",\"vilyuysk\",\"oran\",\"mezhdurechenskiy\",\"kaa-khem\",\"portland\",\"berezovo\",\"flying fish cove\",\"kodiak\",\"horta\",\"tafuna\",\"tarata\",\"marsa alam\",\"mareeba\",\"tamanrasset\",\"peligros\",\"kattivakkam\",\"kangding\",\"road town\",\"yanchep\",\"east wenatchee bench\",\"mili\",\"fort st. john\",\"cottesloe\",\"sona\",\"at taj\",\"evanston\",\"garwolin\",\"brisas de zicatela\",\"kavaratti\",\"general acha\",\"puerto baquerizo moreno\",\"torquay\",\"carnarvon\",\"ritchie\",\"bakchar\",\"thunder bay\",\"san luis de la loma\",\"manokwari\",\"wotho\",\"bilibino\",\"ballina\",\"xining\",\"colchani\",\"kiunga\",\"hadibu\",\"kidal\",\"santana\",\"spring creek\",\"talara\",\"pacific grove\",\"montevideo\",\"nouadhibou\",\"kralendijk\",\"okhotsk\",\"puerto penasco\",\"salinopolis\",\"itabira\",\"xilin hot\",\"malpica\",\"nadvoitsy\",\"saint croix\",\"christchurch\",\"nepanagar\",\"uusikaupunki\",\"fruita\",\"lepsy\",\"pisco\",\"sao raimundo nonato\",\"orosei\",\"bayanhongor\",\"gadzhiyevo\",\"tobarra\",\"macusani\",\"saint-joseph\",\"alzamay\",\"narwana\",\"ahar\",\"howrah\",\"tobelo\",\"noyabrsk\",\"kerema\",\"zinder\",\"sanctuary point\",\"makokou\",\"kedougou\",\"keflavik\",\"bam\",\"odda\",\"lagodekhi\",\"nizhniy kuranakh\",\"nehe\",\"necochea\",\"nabire\",\"fale old settlement\",\"impfondo\",\"kirakira\",\"revda\",\"teluknaga\",\"kourou\",\"yuktae-dong\",\"waiuku\",\"bahia honda\",\"kaoma\",\"lorengau\",\"maintirano\",\"bichena\",\"sao joao da barra\",\"novoagansk\",\"zaozersk\",\"pankrushikha\",\"mount vernon\",\"umea\",\"maunabo\",\"vila franca do campo\",\"island harbour\",\"teguise\",\"geraldton\",\"ichnya\",\"luwuk\",\"beatrice\",\"abu\",\"kranenburg\",\"stephenville\",\"alto barinas\",\"tolanaro\",\"crane\",\"bonnyville\",\"demre\",\"san luis\",\"okha\",\"hwange\",\"kharan\",\"kristiansund\",\"bonthe\",\"puerto leguizamo\",\"salida\",\"tiraspol\",\"mariehamn\",\"barcelos\",\"jindabyne\",\"alghero\",\"praia da vitoria\",\"senador jose porfirio\",\"kuanda\",\"coronel suarez\",\"nuriootpa\",\"saint-francois\",\"arteche\",\"ash shatrah\",\"lockwood\",\"puerto armuelles\",\"bundaberg\",\"hinton\",\"kroya\",\"ajdabiya\",\"el calafate\",\"bull savanna\",\"shahrud\",\"yoko\",\"midvagur\",\"marcali\",\"arno\",\"ketchikan\",\"rio grande\",\"laurel\",\"ewo\",\"lompoc\",\"al ghayzah\",\"watford city\",\"gustavsberg\",\"vari\",\"sabzevar\",\"prince rupert\",\"baganga\",\"imuris\",\"novovoronezh\",\"zaraza\",\"aoulef\",\"new norfolk\",\"rongelap\",\"pechora\",\"monrovia\",\"kathmandu\",\"san andres\",\"kapuskasing\",\"baiyin\",\"wynyard\",\"vorkuta\",\"guerrero negro\",\"kiffa\",\"chui\",\"griffith\",\"ak-dovurak\",\"kupang\",\"atamyrat\",\"bridgetown\",\"bishoftu\",\"manggar\",\"hengchun\",\"remire-montjoly\",\"shar'ya\",\"niquero\",\"khandud\",\"san antonio de pale\",\"igrim\",\"progreso\",\"rahimah\",\"kaka\",\"berezovyy\",\"adrar\",\"igarka\",\"yung shue wan\",\"ajaccio\",\"ixtapa\",\"antofagasta\",\"sorong\",\"castillos\",\"shitanjing\",\"daun\",\"tsiroanomandidy\",\"itoman\",\"kulunda\",\"amahai\",\"umm kaddadah\",\"mandalgovi\",\"tazacorte\",\"luderitz\",\"kshenskiy\",\"xishan\",\"narrabri\",\"piacabucu\",\"kurumkan\",\"lijiang\",\"suva\",\"masaya sur\",\"ugoofaaru\",\"fuglafjordur\",\"businga\",\"nuuk\",\"petauke\",\"susuman\",\"santa fe do sul\",\"la passe\",\"masterton\",\"sinabang\",\"torghay\",\"shchyolkino\",\"parnarama\",\"mata-utu\",\"raufoss\",\"dalian\",\"cole harbour\",\"bonanza\",\"swift current\",\"porto novo\",\"callao\",\"ebon\",\"mount isa\",\"zakynthos\",\"mramani\",\"kloulklubed\",\"rawai\",\"ust'-kulom\",\"kegeyli shahar\",\"p'ot'i\",\"yerofey pavlovich\",\"hailar\",\"guaruja\",\"ternate\",\"el sauzal de rodriguez\",\"kapa'a\",\"primorsk\",\"westport\",\"dembi dolo\",\"seminole\",\"pizarro\",\"pasuquin\",\"dingwall\",\"cadale\",\"salaga\",\"veraval\",\"grootfontein\",\"shiloh\",\"mooloolaba\",\"egilsstadir\",\"la'ie\",\"birobidzhan\",\"middelburg\",\"hammerfest\",\"voskresenskoye\",\"juneau\",\"novaya tavolzhanka\",\"chokwe\",\"yuzhno-kurilsk\",\"webster\",\"aykhal\",\"manacapuru\",\"broome\",\"galliano\",\"mugia\",\"amparafaravola\",\"sheksna\",\"zabaykal'sk\",\"coron\",\"yemva\",\"paoua\",\"aripuana\",\"ad douiem\",\"micheweni\",\"pangody\"]],[\"Humidity\",{\"type\":\"ndarray\",\"array\":{\"type\":\"bytes\",\"data\":\"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\"},\"shape\":[566],\"dtype\":\"int32\",\"order\":\"little\"}],[\"color\",[\"polyarnyy\",\"timimoun\",\"perelyub\",\"tiksi\",\"waitangi\",\"papatowai\",\"bovalino\",\"constantia\",\"esquina\",\"sarpol-e zahab\",\"tazovsky\",\"kailua-kona\",\"nyurba\",\"north bend\",\"port blair\",\"blackmans bay\",\"bredasdorp\",\"puerto ayora\",\"muynoq\",\"talnakh\",\"turpan\",\"malakanagiri\",\"ust-nera\",\"anadyr\",\"bethel\",\"koryazhma\",\"thompson\",\"port alfred\",\"goure\",\"mount gambier\",\"fort bragg\",\"ilulissat\",\"nemuro\",\"happy valley-goose bay\",\"port-aux-francais\",\"minas de marcona\",\"ambon\",\"natal\",\"avarua\",\"adamstown\",\"aasiaat\",\"nantucket\",\"saint-pierre\",\"el porvenir\",\"saudarkrokur\",\"lipsko\",\"albany\",\"walvis bay\",\"dongola\",\"wailua homesteads\",\"shagonar\",\"college\",\"ageyevo\",\"belokurikha\",\"mont-dore\",\"siwa oasis\",\"stettler\",\"invercargill\",\"hasaki\",\"qaqortoq\",\"lihue\",\"stanley\",\"lander\",\"plastun\",\"kerikeri\",\"puerto natales\",\"cooma\",\"grytviken\",\"ghat\",\"zeya\",\"isafjordur\",\"iqaluit\",\"colonia\",\"hawaiian paradise park\",\"saynshand\",\"fort mcmurray\",\"isangel\",\"madingou\",\"hamilton\",\"haiku-pauwela\",\"georgetown\",\"whitehorse\",\"edinburgh of the seven seas\",\"hithadhoo\",\"tura\",\"pariaman\",\"badger\",\"awjilah\",\"alice springs\",\"ribeira grande\",\"hirara\",\"raja\",\"yetkul'\",\"utrik\",\"nova vicosa\",\"amga\",\"alofi\",\"sao gabriel da cachoeira\",\"ad dabbah\",\"yellowknife\",\"vila velha\",\"neftegorsk\",\"ta`u\",\"cill airne\",\"port lincoln\",\"palikir - national government center\",\"novobod\",\"belmonte\",\"petropavlovsk-kamchatsky\",\"port augusta\",\"minab\",\"west island\",\"aketi\",\"kingston\",\"peniche\",\"parchim\",\"chonchi\",\"cockburn town\",\"codrington\",\"mermoz boabab\",\"chukhloma\",\"nha trang\",\"port mathurin\",\"mejit\",\"nema\",\"taoudenni\",\"araguaina\",\"longyearbyen\",\"xiantao\",\"shenjiamen\",\"cannonvale\",\"arkhangel'sk\",\"judenburg\",\"saint-philippe\",\"margaret river\",\"san patricio\",\"puerto deseado\",\"chenaran\",\"dudinka\",\"ironwood\",\"olonkinbyen\",\"sisimiut\",\"ikalamavony\",\"felipe carrillo puerto\",\"hermanus\",\"karratha\",\"olyokminsk\",\"arraial do cabo\",\"vanimo\",\"ushuaia\",\"cidreira\",\"al fulah\",\"hassi messaoud\",\"ancud\",\"kani keli\",\"pont rouge\",\"fada\",\"berwick-upon-tweed\",\"murzuq\",\"bardai\",\"kalmunai\",\"mukalla\",\"chauk\",\"valparaiso\",\"ar rahad\",\"kem'\",\"nova sintra\",\"mangrol\",\"mek'ele\",\"port macquarie\",\"florence\",\"cururupu\",\"naze\",\"dokshytsy\",\"el granada\",\"weno\",\"uturoa\",\"maceio\",\"chinchilla\",\"sandnessjoen\",\"vernon\",\"yamada\",\"tsiombe\",\"fortuna\",\"dryden\",\"port saint john's\",\"trincomalee\",\"sao jose da coroa grande\",\"kargasok\",\"kuala terengganu\",\"omutinskiy\",\"khandyga\",\"saipan\",\"mwinilunga\",\"jiuquan\",\"rancho palos verdes\",\"keetmanshoop\",\"namibe\",\"port elizabeth\",\"frutal\",\"dergachi\",\"vadso\",\"brookings\",\"jamestown\",\"st. john's\",\"al lagowa\",\"inirida\",\"poyarkovo\",\"tommot\",\"qa'en\",\"alappuzha\",\"atafu village\",\"sarikei\",\"carutapera\",\"six-fours-les-plages\",\"iskateley\",\"kampung bukit tinggi, bentong\",\"lebu\",\"udachny\",\"wuzhou\",\"shiguai\",\"fumel\",\"selkirk\",\"zhezqazghan\",\"vilyuchinsk\",\"nar'yan-mar\",\"severo-yeniseyskiy\",\"touros\",\"axim\",\"kill devil hills\",\"thinadhoo\",\"inderbor\",\"lerwick\",\"kastsyukovichy\",\"al jawf\",\"khorugh\",\"tabuk\",\"magadan\",\"aktau\",\"skelleftea\",\"afaahiti\",\"vorgashor\",\"el nido\",\"kruisfontein\",\"sitka\",\"muromtsevo\",\"whitecourt\",\"sarh\",\"lazaro cardenas\",\"jarvenpaa\",\"punta arenas\",\"lucapa\",\"enewetak\",\"balaguer\",\"cabo san lucas\",\"cam ranh\",\"vilyuysk\",\"oran\",\"mezhdurechenskiy\",\"kaa-khem\",\"portland\",\"berezovo\",\"flying fish cove\",\"kodiak\",\"horta\",\"tafuna\",\"tarata\",\"marsa alam\",\"mareeba\",\"tamanrasset\",\"peligros\",\"kattivakkam\",\"kangding\",\"road town\",\"yanchep\",\"east wenatchee bench\",\"mili\",\"fort st. john\",\"cottesloe\",\"sona\",\"at taj\",\"evanston\",\"garwolin\",\"brisas de zicatela\",\"kavaratti\",\"general acha\",\"puerto baquerizo moreno\",\"torquay\",\"carnarvon\",\"ritchie\",\"bakchar\",\"thunder bay\",\"san luis de la loma\",\"manokwari\",\"wotho\",\"bilibino\",\"ballina\",\"xining\",\"colchani\",\"kiunga\",\"hadibu\",\"kidal\",\"santana\",\"spring creek\",\"talara\",\"pacific grove\",\"montevideo\",\"nouadhibou\",\"kralendijk\",\"okhotsk\",\"puerto penasco\",\"salinopolis\",\"itabira\",\"xilin hot\",\"malpica\",\"nadvoitsy\",\"saint croix\",\"christchurch\",\"nepanagar\",\"uusikaupunki\",\"fruita\",\"lepsy\",\"pisco\",\"sao raimundo nonato\",\"orosei\",\"bayanhongor\",\"gadzhiyevo\",\"tobarra\",\"macusani\",\"saint-joseph\",\"alzamay\",\"narwana\",\"ahar\",\"howrah\",\"tobelo\",\"noyabrsk\",\"kerema\",\"zinder\",\"sanctuary point\",\"makokou\",\"kedougou\",\"keflavik\",\"bam\",\"odda\",\"lagodekhi\",\"nizhniy kuranakh\",\"nehe\",\"necochea\",\"nabire\",\"fale old settlement\",\"impfondo\",\"kirakira\",\"revda\",\"teluknaga\",\"kourou\",\"yuktae-dong\",\"waiuku\",\"bahia honda\",\"kaoma\",\"lorengau\",\"maintirano\",\"bichena\",\"sao joao da barra\",\"novoagansk\",\"zaozersk\",\"pankrushikha\",\"mount vernon\",\"umea\",\"maunabo\",\"vila franca do campo\",\"island harbour\",\"teguise\",\"geraldton\",\"ichnya\",\"luwuk\",\"beatrice\",\"abu\",\"kranenburg\",\"stephenville\",\"alto barinas\",\"tolanaro\",\"crane\",\"bonnyville\",\"demre\",\"san luis\",\"okha\",\"hwange\",\"kharan\",\"kristiansund\",\"bonthe\",\"puerto leguizamo\",\"salida\",\"tiraspol\",\"mariehamn\",\"barcelos\",\"jindabyne\",\"alghero\",\"praia da vitoria\",\"senador jose porfirio\",\"kuanda\",\"coronel suarez\",\"nuriootpa\",\"saint-francois\",\"arteche\",\"ash shatrah\",\"lockwood\",\"puerto armuelles\",\"bundaberg\",\"hinton\",\"kroya\",\"ajdabiya\",\"el calafate\",\"bull savanna\",\"shahrud\",\"yoko\",\"midvagur\",\"marcali\",\"arno\",\"ketchikan\",\"rio grande\",\"laurel\",\"ewo\",\"lompoc\",\"al ghayzah\",\"watford city\",\"gustavsberg\",\"vari\",\"sabzevar\",\"prince rupert\",\"baganga\",\"imuris\",\"novovoronezh\",\"zaraza\",\"aoulef\",\"new norfolk\",\"rongelap\",\"pechora\",\"monrovia\",\"kathmandu\",\"san andres\",\"kapuskasing\",\"baiyin\",\"wynyard\",\"vorkuta\",\"guerrero negro\",\"kiffa\",\"chui\",\"griffith\",\"ak-dovurak\",\"kupang\",\"atamyrat\",\"bridgetown\",\"bishoftu\",\"manggar\",\"hengchun\",\"remire-montjoly\",\"shar'ya\",\"niquero\",\"khandud\",\"san antonio de pale\",\"igrim\",\"progreso\",\"rahimah\",\"kaka\",\"berezovyy\",\"adrar\",\"igarka\",\"yung shue wan\",\"ajaccio\",\"ixtapa\",\"antofagasta\",\"sorong\",\"castillos\",\"shitanjing\",\"daun\",\"tsiroanomandidy\",\"itoman\",\"kulunda\",\"amahai\",\"umm kaddadah\",\"mandalgovi\",\"tazacorte\",\"luderitz\",\"kshenskiy\",\"xishan\",\"narrabri\",\"piacabucu\",\"kurumkan\",\"lijiang\",\"suva\",\"masaya sur\",\"ugoofaaru\",\"fuglafjordur\",\"businga\",\"nuuk\",\"petauke\",\"susuman\",\"santa fe do sul\",\"la passe\",\"masterton\",\"sinabang\",\"torghay\",\"shchyolkino\",\"parnarama\",\"mata-utu\",\"raufoss\",\"dalian\",\"cole harbour\",\"bonanza\",\"swift current\",\"porto novo\",\"callao\",\"ebon\",\"mount isa\",\"zakynthos\",\"mramani\",\"kloulklubed\",\"rawai\",\"ust'-kulom\",\"kegeyli shahar\",\"p'ot'i\",\"yerofey pavlovich\",\"hailar\",\"guaruja\",\"ternate\",\"el sauzal de rodriguez\",\"kapa'a\",\"primorsk\",\"westport\",\"dembi dolo\",\"seminole\",\"pizarro\",\"pasuquin\",\"dingwall\",\"cadale\",\"salaga\",\"veraval\",\"grootfontein\",\"shiloh\",\"mooloolaba\",\"egilsstadir\",\"la'ie\",\"birobidzhan\",\"middelburg\",\"hammerfest\",\"voskresenskoye\",\"juneau\",\"novaya tavolzhanka\",\"chokwe\",\"yuzhno-kurilsk\",\"webster\",\"aykhal\",\"manacapuru\",\"broome\",\"galliano\",\"mugia\",\"amparafaravola\",\"sheksna\",\"zabaykal'sk\",\"coron\",\"yemva\",\"paoua\",\"aripuana\",\"ad douiem\",\"micheweni\",\"pangody\"]],[\"size\",{\"type\":\"ndarray\",\"array\":{\"type\":\"bytes\",\"data\":\"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\"},\"shape\":[566],\"dtype\":\"float64\",\"order\":\"little\"}]]}}},\"view\":{\"type\":\"object\",\"name\":\"CDSView\",\"id\":\"p1290\",\"attributes\":{\"filter\":{\"type\":\"object\",\"name\":\"AllIndices\",\"id\":\"p1291\"}}},\"glyph\":{\"type\":\"object\",\"name\":\"Scatter\",\"id\":\"p1284\",\"attributes\":{\"tags\":[\"apply_ranges\"],\"x\":{\"type\":\"field\",\"field\":\"Lng\"},\"y\":{\"type\":\"field\",\"field\":\"Lat\"},\"size\":{\"type\":\"field\",\"field\":\"size\"},\"line_color\":{\"type\":\"field\",\"field\":\"color\",\"transform\":{\"type\":\"object\",\"name\":\"CategoricalColorMapper\",\"id\":\"p1277\",\"attributes\":{\"palette\":[\"#1f77b3\",\"#ff7e0e\",\"#2ba02b\",\"#d62628\",\"#9367bc\",\"#8c564b\",\"#e277c1\",\"#7e7e7e\",\"#bcbc21\",\"#16bdcf\",\"#3a0182\",\"#004201\",\"#0fffa8\",\"#5d003f\",\"#bcbcff\",\"#d8afa1\",\"#b80080\",\"#004d52\",\"#6b6400\",\"#7c0100\",\"#6026ff\",\"#ffff9a\",\"#564964\",\"#8cb893\",\"#93fbff\",\"#018267\",\"#90ff00\",\"#8200a0\",\"#ac8944\",\"#5b3400\",\"#ffbff2\",\"#ff6e75\",\"#798cff\",\"#dd00ff\",\"#505646\",\"#004489\",\"#ffbf60\",\"#ff018c\",\"#bdc8cf\",\"#af97b5\",\"#b65600\",\"#017000\",\"#cd87ff\",\"#1cd646\",\"#bfebc3\",\"#7997b5\",\"#a56089\",\"#6e8956\",\"#bc7c75\",\"#8a2844\",\"#00acff\",\"#8ed4ff\",\"#4b6d77\",\"#00d4b1\",\"#9300f2\",\"#8a9500\",\"#5d5b9e\",\"#fddfba\",\"#00939e\",\"#ffdb00\",\"#00aa79\",\"#520067\",\"#000091\",\"#0a5d3d\",\"#a5e275\",\"#623b41\",\"#c6c689\",\"#ff9eb5\",\"#cd4f6b\",\"#ff07d6\",\"#8a3a05\",\"#7e3d70\",\"#ff4901\",\"#602ba5\",\"#1c00ff\",\"#e6dfff\",\"#aa3baf\",\"#d89c00\",\"#a3a39e\",\"#3f69ff\",\"#46490c\",\"#7b6985\",\"#6b978c\",\"#ff9a75\",\"#835bff\",\"#7c6b46\",\"#80b654\",\"#bc0049\",\"#fd93ff\",\"#5d0018\",\"#89d1d1\",\"#9c8cd3\",\"#da6d42\",\"#8a5700\",\"#3b5069\",\"#4b6b3b\",\"#edcfd8\",\"#cfedff\",\"#aa1500\",\"#dfff4f\",\"#ff2a56\",\"#d1499e\",\"#707cb8\",\"#598000\",\"#00e4fd\",\"#774b95\",\"#67d48c\",\"#3d3a72\",\"#ac413f\",\"#d6a166\",\"#c169cd\",\"#69595d\",\"#87aced\",\"#a0a569\",\"#d1aae6\",\"#870062\",\"#00fddb\",\"#672818\",\"#b342ff\",\"#0e59c4\",\"#168742\",\"#90d300\",\"#cd7900\",\"#f959ff\",\"#5b7466\",\"#8eaeb3\",\"#9c7c8c\",\"#4600c6\",\"#6b4d2d\",\"#a56d46\",\"#9e8972\",\"#a8afca\",\"#cd8ca7\",\"#00fd64\",\"#917900\",\"#ff62a1\",\"#f4ffd8\",\"#018cf0\",\"#13aca0\",\"#5b2d59\",\"#89859e\",\"#cfccba\",\"#d4afc4\",\"#dbdd6d\",\"#cffff4\",\"#006485\",\"#006962\",\"#a84167\",\"#2d97c4\",\"#a874ff\",\"#26ba5d\",\"#57b600\",\"#caffa7\",\"#a379aa\",\"#ffbc93\",\"#89e2c1\",\"#0fc8ff\",\"#d400c4\",\"#626d89\",\"#69858e\",\"#4b4d52\",\"#aa6067\",\"#79b5d4\",\"#2b5916\",\"#9a0024\",\"#bdd1f2\",\"#896e67\",\"#69a56b\",\"#855467\",\"#aecdba\",\"#87997e\",\"#cadb00\",\"#9a0390\",\"#ebbc1a\",\"#eb9cd1\",\"#70006e\",\"#b1a131\",\"#ca6b93\",\"#4146a3\",\"#e48c89\",\"#d44400\",\"#c68aca\",\"#b69597\",\"#d41f75\",\"#724bcc\",\"#674d00\",\"#672138\",\"#38564f\",\"#6ebaaa\",\"#853a31\",\"#a5d397\",\"#b8af8e\",\"#d8e4df\",\"#aa00df\",\"#cac1db\",\"#ffdf8c\",\"#e2524d\",\"#66696e\",\"#ff001c\",\"#522d72\",\"#4d906b\",\"#a86d11\",\"#ff9e26\",\"#5ea3af\",\"#c88556\",\"#915997\",\"#a3a1ff\",\"#fdbaba\",\"#242a87\",\"#dbe6a8\",\"#97f2a7\",\"#6793d6\",\"#ba5b3f\",\"#3a5d91\",\"#364f2f\",\"#267c95\",\"#89959a\",\"#cfb356\",\"#004664\",\"#5e5d2f\",\"#8e8e41\",\"#ac3f13\",\"#69953b\",\"#a13d85\",\"#bfb6ba\",\"#acc667\",\"#6469cf\",\"#91af00\",\"#2be2da\",\"#016e36\",\"#ff7952\",\"#42807e\",\"#4fe800\",\"#995428\",\"#5d0a00\",\"#a30057\",\"#0c8700\",\"#5982a7\",\"#ffebfb\",\"#4b6901\",\"#8775d4\",\"#e6c6ff\",\"#a5ffda\",\"#d86e77\",\"#df014b\",\"#69675b\",\"#776ba1\",\"#7e8067\",\"#594685\",\"#0000ca\",\"#7c002a\",\"#97ff72\",\"#b5e2e1\",\"#db52c8\",\"#777734\",\"#57bd8e\",\"#1f77b3\",\"#ff7e0e\",\"#2ba02b\",\"#d62628\",\"#9367bc\",\"#8c564b\",\"#e277c1\",\"#7e7e7e\",\"#bcbc21\",\"#16bdcf\",\"#3a0182\",\"#004201\",\"#0fffa8\",\"#5d003f\",\"#bcbcff\",\"#d8afa1\",\"#b80080\",\"#004d52\",\"#6b6400\",\"#7c0100\",\"#6026ff\",\"#ffff9a\",\"#564964\",\"#8cb893\",\"#93fbff\",\"#018267\",\"#90ff00\",\"#8200a0\",\"#ac8944\",\"#5b3400\",\"#ffbff2\",\"#ff6e75\",\"#798cff\",\"#dd00ff\",\"#505646\",\"#004489\",\"#ffbf60\",\"#ff018c\",\"#bdc8cf\",\"#af97b5\",\"#b65600\",\"#017000\",\"#cd87ff\",\"#1cd646\",\"#bfebc3\",\"#7997b5\",\"#a56089\",\"#6e8956\",\"#bc7c75\",\"#8a2844\",\"#00acff\",\"#8ed4ff\",\"#4b6d77\",\"#00d4b1\",\"#9300f2\",\"#8a9500\",\"#5d5b9e\",\"#fddfba\",\"#00939e\",\"#ffdb00\",\"#00aa79\",\"#520067\",\"#000091\",\"#0a5d3d\",\"#a5e275\",\"#623b41\",\"#c6c689\",\"#ff9eb5\",\"#cd4f6b\",\"#ff07d6\",\"#8a3a05\",\"#7e3d70\",\"#ff4901\",\"#602ba5\",\"#1c00ff\",\"#e6dfff\",\"#aa3baf\",\"#d89c00\",\"#a3a39e\",\"#3f69ff\",\"#46490c\",\"#7b6985\",\"#6b978c\",\"#ff9a75\",\"#835bff\",\"#7c6b46\",\"#80b654\",\"#bc0049\",\"#fd93ff\",\"#5d0018\",\"#89d1d1\",\"#9c8cd3\",\"#da6d42\",\"#8a5700\",\"#3b5069\",\"#4b6b3b\",\"#edcfd8\",\"#cfedff\",\"#aa1500\",\"#dfff4f\",\"#ff2a56\",\"#d1499e\",\"#707cb8\",\"#598000\",\"#00e4fd\",\"#774b95\",\"#67d48c\",\"#3d3a72\",\"#ac413f\",\"#d6a166\",\"#c169cd\",\"#69595d\",\"#87aced\",\"#a0a569\",\"#d1aae6\",\"#870062\",\"#00fddb\",\"#672818\",\"#b342ff\",\"#0e59c4\",\"#168742\",\"#90d300\",\"#cd7900\",\"#f959ff\",\"#5b7466\",\"#8eaeb3\",\"#9c7c8c\",\"#4600c6\",\"#6b4d2d\",\"#a56d46\",\"#9e8972\",\"#a8afca\",\"#cd8ca7\",\"#00fd64\",\"#917900\",\"#ff62a1\",\"#f4ffd8\",\"#018cf0\",\"#13aca0\",\"#5b2d59\",\"#89859e\",\"#cfccba\",\"#d4afc4\",\"#dbdd6d\",\"#cffff4\",\"#006485\",\"#006962\",\"#a84167\",\"#2d97c4\",\"#a874ff\",\"#26ba5d\",\"#57b600\",\"#caffa7\",\"#a379aa\",\"#ffbc93\",\"#89e2c1\",\"#0fc8ff\",\"#d400c4\",\"#626d89\",\"#69858e\",\"#4b4d52\",\"#aa6067\",\"#79b5d4\",\"#2b5916\",\"#9a0024\",\"#bdd1f2\",\"#896e67\",\"#69a56b\",\"#855467\",\"#aecdba\",\"#87997e\",\"#cadb00\",\"#9a0390\",\"#ebbc1a\",\"#eb9cd1\",\"#70006e\",\"#b1a131\",\"#ca6b93\",\"#4146a3\",\"#e48c89\",\"#d44400\",\"#c68aca\",\"#b69597\",\"#d41f75\",\"#724bcc\",\"#674d00\",\"#672138\",\"#38564f\",\"#6ebaaa\",\"#853a31\",\"#a5d397\",\"#b8af8e\",\"#d8e4df\",\"#aa00df\",\"#cac1db\",\"#ffdf8c\",\"#e2524d\",\"#66696e\",\"#ff001c\",\"#522d72\",\"#4d906b\",\"#a86d11\",\"#ff9e26\",\"#5ea3af\",\"#c88556\",\"#915997\",\"#a3a1ff\",\"#fdbaba\",\"#242a87\",\"#dbe6a8\",\"#97f2a7\",\"#6793d6\",\"#ba5b3f\",\"#3a5d91\",\"#364f2f\",\"#267c95\",\"#89959a\",\"#cfb356\",\"#004664\",\"#5e5d2f\",\"#8e8e41\",\"#ac3f13\",\"#69953b\",\"#a13d85\",\"#bfb6ba\",\"#acc667\",\"#6469cf\",\"#91af00\",\"#2be2da\",\"#016e36\",\"#ff7952\",\"#42807e\",\"#4fe800\",\"#995428\",\"#5d0a00\",\"#a30057\",\"#0c8700\",\"#5982a7\",\"#ffebfb\",\"#4b6901\",\"#8775d4\",\"#e6c6ff\",\"#a5ffda\",\"#d86e77\",\"#df014b\",\"#69675b\",\"#776ba1\",\"#7e8067\",\"#594685\",\"#0000ca\",\"#7c002a\",\"#97ff72\",\"#b5e2e1\",\"#db52c8\",\"#777734\",\"#57bd8e\",\"#1f77b3\",\"#ff7e0e\",\"#2ba02b\",\"#d62628\",\"#9367bc\",\"#8c564b\",\"#e277c1\",\"#7e7e7e\",\"#bcbc21\",\"#16bdcf\",\"#3a0182\",\"#004201\",\"#0fffa8\",\"#5d003f\",\"#bcbcff\",\"#d8afa1\",\"#b80080\",\"#004d52\",\"#6b6400\",\"#7c0100\",\"#6026ff\",\"#ffff9a\",\"#564964\",\"#8cb893\",\"#93fbff\",\"#018267\",\"#90ff00\",\"#8200a0\",\"#ac8944\",\"#5b3400\",\"#ffbff2\",\"#ff6e75\",\"#798cff\",\"#dd00ff\",\"#505646\",\"#004489\",\"#ffbf60\",\"#ff018c\",\"#bdc8cf\",\"#af97b5\",\"#b65600\",\"#017000\",\"#cd87ff\",\"#1cd646\",\"#bfebc3\",\"#7997b5\",\"#a56089\",\"#6e8956\",\"#bc7c75\",\"#8a2844\",\"#00acff\",\"#8ed4ff\",\"#4b6d77\",\"#00d4b1\"],\"factors\":[\"polyarnyy\",\"timimoun\",\"perelyub\",\"tiksi\",\"waitangi\",\"papatowai\",\"bovalino\",\"constantia\",\"esquina\",\"sarpol-e zahab\",\"tazovsky\",\"kailua-kona\",\"nyurba\",\"north bend\",\"port blair\",\"blackmans bay\",\"bredasdorp\",\"puerto ayora\",\"muynoq\",\"talnakh\",\"turpan\",\"malakanagiri\",\"ust-nera\",\"anadyr\",\"bethel\",\"koryazhma\",\"thompson\",\"port alfred\",\"goure\",\"mount gambier\",\"fort bragg\",\"ilulissat\",\"nemuro\",\"happy valley-goose bay\",\"port-aux-francais\",\"minas de marcona\",\"ambon\",\"natal\",\"avarua\",\"adamstown\",\"aasiaat\",\"nantucket\",\"saint-pierre\",\"el porvenir\",\"saudarkrokur\",\"lipsko\",\"albany\",\"walvis bay\",\"dongola\",\"wailua homesteads\",\"shagonar\",\"college\",\"ageyevo\",\"belokurikha\",\"mont-dore\",\"siwa oasis\",\"stettler\",\"invercargill\",\"hasaki\",\"qaqortoq\",\"lihue\",\"stanley\",\"lander\",\"plastun\",\"kerikeri\",\"puerto natales\",\"cooma\",\"grytviken\",\"ghat\",\"zeya\",\"isafjordur\",\"iqaluit\",\"colonia\",\"hawaiian paradise park\",\"saynshand\",\"fort mcmurray\",\"isangel\",\"madingou\",\"hamilton\",\"haiku-pauwela\",\"georgetown\",\"whitehorse\",\"edinburgh of the seven seas\",\"hithadhoo\",\"tura\",\"pariaman\",\"badger\",\"awjilah\",\"alice springs\",\"ribeira grande\",\"hirara\",\"raja\",\"yetkul'\",\"utrik\",\"nova vicosa\",\"amga\",\"alofi\",\"sao gabriel da cachoeira\",\"ad dabbah\",\"yellowknife\",\"vila velha\",\"neftegorsk\",\"ta`u\",\"cill airne\",\"port lincoln\",\"palikir - national government center\",\"novobod\",\"belmonte\",\"petropavlovsk-kamchatsky\",\"port augusta\",\"minab\",\"west island\",\"aketi\",\"kingston\",\"peniche\",\"parchim\",\"chonchi\",\"cockburn town\",\"codrington\",\"mermoz boabab\",\"chukhloma\",\"nha trang\",\"port mathurin\",\"mejit\",\"nema\",\"taoudenni\",\"araguaina\",\"longyearbyen\",\"xiantao\",\"shenjiamen\",\"cannonvale\",\"arkhangel'sk\",\"judenburg\",\"saint-philippe\",\"margaret river\",\"san patricio\",\"puerto deseado\",\"chenaran\",\"dudinka\",\"ironwood\",\"olonkinbyen\",\"sisimiut\",\"ikalamavony\",\"felipe carrillo puerto\",\"hermanus\",\"karratha\",\"olyokminsk\",\"arraial do cabo\",\"vanimo\",\"ushuaia\",\"cidreira\",\"al fulah\",\"hassi messaoud\",\"ancud\",\"kani keli\",\"pont rouge\",\"fada\",\"berwick-upon-tweed\",\"murzuq\",\"bardai\",\"kalmunai\",\"mukalla\",\"chauk\",\"valparaiso\",\"ar rahad\",\"kem'\",\"nova sintra\",\"mangrol\",\"mek'ele\",\"port macquarie\",\"florence\",\"cururupu\",\"naze\",\"dokshytsy\",\"el granada\",\"weno\",\"uturoa\",\"maceio\",\"chinchilla\",\"sandnessjoen\",\"vernon\",\"yamada\",\"tsiombe\",\"fortuna\",\"dryden\",\"port saint john's\",\"trincomalee\",\"sao jose da coroa grande\",\"kargasok\",\"kuala terengganu\",\"omutinskiy\",\"khandyga\",\"saipan\",\"mwinilunga\",\"jiuquan\",\"rancho palos verdes\",\"keetmanshoop\",\"namibe\",\"port elizabeth\",\"frutal\",\"dergachi\",\"vadso\",\"brookings\",\"jamestown\",\"st. john's\",\"al lagowa\",\"inirida\",\"poyarkovo\",\"tommot\",\"qa'en\",\"alappuzha\",\"atafu village\",\"sarikei\",\"carutapera\",\"six-fours-les-plages\",\"iskateley\",\"kampung bukit tinggi, bentong\",\"lebu\",\"udachny\",\"wuzhou\",\"shiguai\",\"fumel\",\"selkirk\",\"zhezqazghan\",\"vilyuchinsk\",\"nar'yan-mar\",\"severo-yeniseyskiy\",\"touros\",\"axim\",\"kill devil hills\",\"thinadhoo\",\"inderbor\",\"lerwick\",\"kastsyukovichy\",\"al jawf\",\"khorugh\",\"tabuk\",\"magadan\",\"aktau\",\"skelleftea\",\"afaahiti\",\"vorgashor\",\"el nido\",\"kruisfontein\",\"sitka\",\"muromtsevo\",\"whitecourt\",\"sarh\",\"lazaro cardenas\",\"jarvenpaa\",\"punta arenas\",\"lucapa\",\"enewetak\",\"balaguer\",\"cabo san lucas\",\"cam ranh\",\"vilyuysk\",\"oran\",\"mezhdurechenskiy\",\"kaa-khem\",\"portland\",\"berezovo\",\"flying fish cove\",\"kodiak\",\"horta\",\"tafuna\",\"tarata\",\"marsa alam\",\"mareeba\",\"tamanrasset\",\"peligros\",\"kattivakkam\",\"kangding\",\"road town\",\"yanchep\",\"east wenatchee bench\",\"mili\",\"fort st. john\",\"cottesloe\",\"sona\",\"at taj\",\"evanston\",\"garwolin\",\"brisas de zicatela\",\"kavaratti\",\"general acha\",\"puerto baquerizo moreno\",\"torquay\",\"carnarvon\",\"ritchie\",\"bakchar\",\"thunder bay\",\"san luis de la loma\",\"manokwari\",\"wotho\",\"bilibino\",\"ballina\",\"xining\",\"colchani\",\"kiunga\",\"hadibu\",\"kidal\",\"santana\",\"spring creek\",\"talara\",\"pacific grove\",\"montevideo\",\"nouadhibou\",\"kralendijk\",\"okhotsk\",\"puerto penasco\",\"salinopolis\",\"itabira\",\"xilin hot\",\"malpica\",\"nadvoitsy\",\"saint croix\",\"christchurch\",\"nepanagar\",\"uusikaupunki\",\"fruita\",\"lepsy\",\"pisco\",\"sao raimundo nonato\",\"orosei\",\"bayanhongor\",\"gadzhiyevo\",\"tobarra\",\"macusani\",\"saint-joseph\",\"alzamay\",\"narwana\",\"ahar\",\"howrah\",\"tobelo\",\"noyabrsk\",\"kerema\",\"zinder\",\"sanctuary point\",\"makokou\",\"kedougou\",\"keflavik\",\"bam\",\"odda\",\"lagodekhi\",\"nizhniy kuranakh\",\"nehe\",\"necochea\",\"nabire\",\"fale old settlement\",\"impfondo\",\"kirakira\",\"revda\",\"teluknaga\",\"kourou\",\"yuktae-dong\",\"waiuku\",\"bahia honda\",\"kaoma\",\"lorengau\",\"maintirano\",\"bichena\",\"sao joao da barra\",\"novoagansk\",\"zaozersk\",\"pankrushikha\",\"mount vernon\",\"umea\",\"maunabo\",\"vila franca do campo\",\"island harbour\",\"teguise\",\"geraldton\",\"ichnya\",\"luwuk\",\"beatrice\",\"abu\",\"kranenburg\",\"stephenville\",\"alto barinas\",\"tolanaro\",\"crane\",\"bonnyville\",\"demre\",\"san luis\",\"okha\",\"hwange\",\"kharan\",\"kristiansund\",\"bonthe\",\"puerto leguizamo\",\"salida\",\"tiraspol\",\"mariehamn\",\"barcelos\",\"jindabyne\",\"alghero\",\"praia da vitoria\",\"senador jose porfirio\",\"kuanda\",\"coronel suarez\",\"nuriootpa\",\"saint-francois\",\"arteche\",\"ash shatrah\",\"lockwood\",\"puerto armuelles\",\"bundaberg\",\"hinton\",\"kroya\",\"ajdabiya\",\"el calafate\",\"bull savanna\",\"shahrud\",\"yoko\",\"midvagur\",\"marcali\",\"arno\",\"ketchikan\",\"rio grande\",\"laurel\",\"ewo\",\"lompoc\",\"al ghayzah\",\"watford city\",\"gustavsberg\",\"vari\",\"sabzevar\",\"prince rupert\",\"baganga\",\"imuris\",\"novovoronezh\",\"zaraza\",\"aoulef\",\"new norfolk\",\"rongelap\",\"pechora\",\"monrovia\",\"kathmandu\",\"san andres\",\"kapuskasing\",\"baiyin\",\"wynyard\",\"vorkuta\",\"guerrero negro\",\"kiffa\",\"chui\",\"griffith\",\"ak-dovurak\",\"kupang\",\"atamyrat\",\"bridgetown\",\"bishoftu\",\"manggar\",\"hengchun\",\"remire-montjoly\",\"shar'ya\",\"niquero\",\"khandud\",\"san antonio de pale\",\"igrim\",\"progreso\",\"rahimah\",\"kaka\",\"berezovyy\",\"adrar\",\"igarka\",\"yung shue wan\",\"ajaccio\",\"ixtapa\",\"antofagasta\",\"sorong\",\"castillos\",\"shitanjing\",\"daun\",\"tsiroanomandidy\",\"itoman\",\"kulunda\",\"amahai\",\"umm kaddadah\",\"mandalgovi\",\"tazacorte\",\"luderitz\",\"kshenskiy\",\"xishan\",\"narrabri\",\"piacabucu\",\"kurumkan\",\"lijiang\",\"suva\",\"masaya sur\",\"ugoofaaru\",\"fuglafjordur\",\"businga\",\"nuuk\",\"petauke\",\"susuman\",\"santa fe do sul\",\"la passe\",\"masterton\",\"sinabang\",\"torghay\",\"shchyolkino\",\"parnarama\",\"mata-utu\",\"raufoss\",\"dalian\",\"cole harbour\",\"bonanza\",\"swift current\",\"porto novo\",\"callao\",\"ebon\",\"mount isa\",\"zakynthos\",\"mramani\",\"kloulklubed\",\"rawai\",\"ust'-kulom\",\"kegeyli shahar\",\"p'ot'i\",\"yerofey pavlovich\",\"hailar\",\"guaruja\",\"ternate\",\"el sauzal de rodriguez\",\"kapa'a\",\"primorsk\",\"westport\",\"dembi dolo\",\"seminole\",\"pizarro\",\"pasuquin\",\"dingwall\",\"cadale\",\"salaga\",\"veraval\",\"grootfontein\",\"shiloh\",\"mooloolaba\",\"egilsstadir\",\"la'ie\",\"birobidzhan\",\"middelburg\",\"hammerfest\",\"voskresenskoye\",\"juneau\",\"novaya tavolzhanka\",\"chokwe\",\"yuzhno-kurilsk\",\"webster\",\"aykhal\",\"manacapuru\",\"broome\",\"galliano\",\"mugia\",\"amparafaravola\",\"sheksna\",\"zabaykal'sk\",\"coron\",\"yemva\",\"paoua\",\"aripuana\",\"ad douiem\",\"micheweni\",\"pangody\"]}}},\"fill_color\":{\"type\":\"field\",\"field\":\"color\",\"transform\":{\"id\":\"p1277\"}},\"hatch_color\":{\"type\":\"field\",\"field\":\"color\",\"transform\":{\"id\":\"p1277\"}}}},\"selection_glyph\":{\"type\":\"object\",\"name\":\"Scatter\",\"id\":\"p1286\",\"attributes\":{\"tags\":[\"apply_ranges\"],\"x\":{\"type\":\"field\",\"field\":\"Lng\"},\"y\":{\"type\":\"field\",\"field\":\"Lat\"},\"size\":{\"type\":\"field\",\"field\":\"size\"},\"line_color\":{\"type\":\"field\",\"field\":\"color\",\"transform\":{\"id\":\"p1277\"}},\"fill_color\":{\"type\":\"field\",\"field\":\"color\",\"transform\":{\"id\":\"p1277\"}},\"hatch_color\":{\"type\":\"field\",\"field\":\"color\",\"transform\":{\"id\":\"p1277\"}}}},\"nonselection_glyph\":{\"type\":\"object\",\"name\":\"Scatter\",\"id\":\"p1285\",\"attributes\":{\"tags\":[\"apply_ranges\"],\"x\":{\"type\":\"field\",\"field\":\"Lng\"},\"y\":{\"type\":\"field\",\"field\":\"Lat\"},\"size\":{\"type\":\"field\",\"field\":\"size\"},\"line_color\":{\"type\":\"field\",\"field\":\"color\",\"transform\":{\"id\":\"p1277\"}},\"line_alpha\":{\"type\":\"value\",\"value\":0.1},\"fill_color\":{\"type\":\"field\",\"field\":\"color\",\"transform\":{\"id\":\"p1277\"}},\"fill_alpha\":{\"type\":\"value\",\"value\":0.1},\"hatch_color\":{\"type\":\"field\",\"field\":\"color\",\"transform\":{\"id\":\"p1277\"}},\"hatch_alpha\":{\"type\":\"value\",\"value\":0.1}}},\"hover_glyph\":{\"type\":\"object\",\"name\":\"Scatter\",\"id\":\"p1287\",\"attributes\":{\"tags\":[\"apply_ranges\"],\"x\":{\"type\":\"field\",\"field\":\"Lng\"},\"y\":{\"type\":\"field\",\"field\":\"Lat\"},\"size\":{\"type\":\"field\",\"field\":\"size\"},\"line_color\":{\"type\":\"field\",\"field\":\"color\",\"transform\":{\"id\":\"p1277\"}},\"fill_color\":{\"type\":\"field\",\"field\":\"color\",\"transform\":{\"id\":\"p1277\"}},\"hatch_color\":{\"type\":\"field\",\"field\":\"color\",\"transform\":{\"id\":\"p1277\"}}}},\"muted_glyph\":{\"type\":\"object\",\"name\":\"Scatter\",\"id\":\"p1288\",\"attributes\":{\"tags\":[\"apply_ranges\"],\"x\":{\"type\":\"field\",\"field\":\"Lng\"},\"y\":{\"type\":\"field\",\"field\":\"Lat\"},\"size\":{\"type\":\"field\",\"field\":\"size\"},\"line_color\":{\"type\":\"field\",\"field\":\"color\",\"transform\":{\"id\":\"p1277\"}},\"line_alpha\":{\"type\":\"value\",\"value\":0.2},\"fill_color\":{\"type\":\"field\",\"field\":\"color\",\"transform\":{\"id\":\"p1277\"}},\"fill_alpha\":{\"type\":\"value\",\"value\":0.2},\"hatch_color\":{\"type\":\"field\",\"field\":\"color\",\"transform\":{\"id\":\"p1277\"}},\"hatch_alpha\":{\"type\":\"value\",\"value\":0.2}}}}}],\"toolbar\":{\"type\":\"object\",\"name\":\"Toolbar\",\"id\":\"p1249\",\"attributes\":{\"tools\":[{\"type\":\"object\",\"name\":\"WheelZoomTool\",\"id\":\"p1225\",\"attributes\":{\"renderers\":\"auto\",\"zoom_on_axis\":false}},{\"type\":\"object\",\"name\":\"BoxZoomTool\",\"id\":\"p1226\",\"attributes\":{\"overlay\":{\"type\":\"object\",\"name\":\"BoxAnnotation\",\"id\":\"p1006\",\"attributes\":{\"syncable\":false,\"level\":\"overlay\",\"visible\":false,\"left\":{\"type\":\"number\",\"value\":\"nan\"},\"right\":{\"type\":\"number\",\"value\":\"nan\"},\"top\":{\"type\":\"number\",\"value\":\"nan\"},\"bottom\":{\"type\":\"number\",\"value\":\"nan\"},\"left_units\":\"canvas\",\"right_units\":\"canvas\",\"top_units\":\"canvas\",\"bottom_units\":\"canvas\",\"line_color\":\"black\",\"line_alpha\":1.0,\"line_width\":2,\"line_dash\":[4,4],\"fill_color\":\"lightgrey\",\"fill_alpha\":0.5}},\"match_aspect\":true}},{\"type\":\"object\",\"name\":\"HoverTool\",\"id\":\"p1239\",\"attributes\":{\"tags\":[\"hv_created\"],\"renderers\":[{\"id\":\"p1289\"}],\"tooltips\":[[\"Lng\",\"$x{custom}\"],[\"Lat\",\"$y{custom}\"],[\"City\",\"@{City}\"],[\"Humidity\",\"@{Humidity}\"]],\"formatters\":{\"type\":\"map\",\"entries\":[[\"$x\",{\"type\":\"object\",\"name\":\"CustomJSHover\",\"id\":\"p1294\",\"attributes\":{\"code\":\"\\n        const projections = Bokeh.require(\\\"core/util/projections\\\");\\n        const {snap_x, snap_y} = special_vars\\n        const coords = projections.wgs84_mercator.invert(snap_x, snap_y)\\n        return \\\"\\\" + (coords[0]).toFixed(4)\\n    \"}}],[\"$y\",{\"type\":\"object\",\"name\":\"CustomJSHover\",\"id\":\"p1295\",\"attributes\":{\"code\":\"\\n        const projections = Bokeh.require(\\\"core/util/projections\\\");\\n        const {snap_x, snap_y} = special_vars\\n        const coords = projections.wgs84_mercator.invert(snap_x, snap_y)\\n        return \\\"\\\" + (coords[1]).toFixed(4)\\n    \"}}]]}}},{\"type\":\"object\",\"name\":\"PanTool\",\"id\":\"p1263\"},{\"type\":\"object\",\"name\":\"ResetTool\",\"id\":\"p1264\"}],\"active_drag\":{\"id\":\"p1263\"}}},\"left\":[{\"type\":\"object\",\"name\":\"LinearAxis\",\"id\":\"p1257\",\"attributes\":{\"ticker\":{\"type\":\"object\",\"name\":\"MercatorTicker\",\"id\":\"p1267\",\"attributes\":{\"mantissas\":[1,2,5],\"dimension\":\"lat\"}},\"formatter\":{\"type\":\"object\",\"name\":\"MercatorTickFormatter\",\"id\":\"p1268\",\"attributes\":{\"dimension\":\"lat\"}},\"axis_label\":\"Latitude\",\"major_label_policy\":{\"type\":\"object\",\"name\":\"AllLabels\",\"id\":\"p1260\"}}}],\"right\":[{\"type\":\"object\",\"name\":\"Legend\",\"id\":\"p1292\",\"attributes\":{\"location\":[0,0],\"click_policy\":\"mute\",\"items\":[{\"type\":\"object\",\"name\":\"LegendItem\",\"id\":\"p1293\",\"attributes\":{\"label\":{\"type\":\"field\",\"field\":\"color\"},\"renderers\":[{\"id\":\"p1289\"}]}}]}}],\"below\":[{\"type\":\"object\",\"name\":\"LinearAxis\",\"id\":\"p1252\",\"attributes\":{\"ticker\":{\"type\":\"object\",\"name\":\"MercatorTicker\",\"id\":\"p1265\",\"attributes\":{\"mantissas\":[1,2,5],\"dimension\":\"lon\"}},\"formatter\":{\"type\":\"object\",\"name\":\"MercatorTickFormatter\",\"id\":\"p1266\",\"attributes\":{\"dimension\":\"lon\"}},\"axis_label\":\"Longitude\",\"major_label_policy\":{\"type\":\"object\",\"name\":\"AllLabels\",\"id\":\"p1255\"}}}],\"center\":[{\"type\":\"object\",\"name\":\"Grid\",\"id\":\"p1256\",\"attributes\":{\"axis\":{\"id\":\"p1252\"},\"grid_line_color\":null}},{\"type\":\"object\",\"name\":\"Grid\",\"id\":\"p1261\",\"attributes\":{\"dimension\":1,\"axis\":{\"id\":\"p1257\"},\"grid_line_color\":null}}],\"frame_width\":800,\"frame_height\":600,\"min_border_top\":10,\"min_border_bottom\":10,\"min_border_left\":10,\"min_border_right\":10,\"output_backend\":\"webgl\",\"match_aspect\":true}},{\"type\":\"object\",\"name\":\"Spacer\",\"id\":\"p1297\",\"attributes\":{\"name\":\"HSpacer01984\",\"stylesheets\":[\"\\n:host(.pn-loading):before, .pn-loading:before {\\n  background-color: #c3c3c3;\\n  mask-size: auto calc(min(50%, 400px));\\n  -webkit-mask-size: auto calc(min(50%, 400px));\\n}\",{\"id\":\"p1210\"},{\"id\":\"p1208\"},{\"id\":\"p1209\"}],\"margin\":0,\"sizing_mode\":\"stretch_width\",\"align\":\"start\"}}]}}],\"defs\":[{\"type\":\"model\",\"name\":\"ReactiveHTML1\"},{\"type\":\"model\",\"name\":\"FlexBox1\",\"properties\":[{\"name\":\"align_content\",\"kind\":\"Any\",\"default\":\"flex-start\"},{\"name\":\"align_items\",\"kind\":\"Any\",\"default\":\"flex-start\"},{\"name\":\"flex_direction\",\"kind\":\"Any\",\"default\":\"row\"},{\"name\":\"flex_wrap\",\"kind\":\"Any\",\"default\":\"wrap\"},{\"name\":\"gap\",\"kind\":\"Any\",\"default\":\"\"},{\"name\":\"justify_content\",\"kind\":\"Any\",\"default\":\"flex-start\"}]},{\"type\":\"model\",\"name\":\"FloatPanel1\",\"properties\":[{\"name\":\"config\",\"kind\":\"Any\",\"default\":{\"type\":\"map\"}},{\"name\":\"contained\",\"kind\":\"Any\",\"default\":true},{\"name\":\"position\",\"kind\":\"Any\",\"default\":\"right-top\"},{\"name\":\"offsetx\",\"kind\":\"Any\",\"default\":null},{\"name\":\"offsety\",\"kind\":\"Any\",\"default\":null},{\"name\":\"theme\",\"kind\":\"Any\",\"default\":\"primary\"},{\"name\":\"status\",\"kind\":\"Any\",\"default\":\"normalized\"}]},{\"type\":\"model\",\"name\":\"GridStack1\",\"properties\":[{\"name\":\"mode\",\"kind\":\"Any\",\"default\":\"warn\"},{\"name\":\"ncols\",\"kind\":\"Any\",\"default\":null},{\"name\":\"nrows\",\"kind\":\"Any\",\"default\":null},{\"name\":\"allow_resize\",\"kind\":\"Any\",\"default\":true},{\"name\":\"allow_drag\",\"kind\":\"Any\",\"default\":true},{\"name\":\"state\",\"kind\":\"Any\",\"default\":[]}]},{\"type\":\"model\",\"name\":\"drag1\",\"properties\":[{\"name\":\"slider_width\",\"kind\":\"Any\",\"default\":5},{\"name\":\"slider_color\",\"kind\":\"Any\",\"default\":\"black\"},{\"name\":\"value\",\"kind\":\"Any\",\"default\":50}]},{\"type\":\"model\",\"name\":\"click1\",\"properties\":[{\"name\":\"terminal_output\",\"kind\":\"Any\",\"default\":\"\"},{\"name\":\"debug_name\",\"kind\":\"Any\",\"default\":\"\"},{\"name\":\"clears\",\"kind\":\"Any\",\"default\":0}]},{\"type\":\"model\",\"name\":\"FastWrapper1\",\"properties\":[{\"name\":\"object\",\"kind\":\"Any\",\"default\":null},{\"name\":\"style\",\"kind\":\"Any\",\"default\":null}]},{\"type\":\"model\",\"name\":\"NotificationAreaBase1\",\"properties\":[{\"name\":\"js_events\",\"kind\":\"Any\",\"default\":{\"type\":\"map\"}},{\"name\":\"position\",\"kind\":\"Any\",\"default\":\"bottom-right\"},{\"name\":\"_clear\",\"kind\":\"Any\",\"default\":0}]},{\"type\":\"model\",\"name\":\"NotificationArea1\",\"properties\":[{\"name\":\"js_events\",\"kind\":\"Any\",\"default\":{\"type\":\"map\"}},{\"name\":\"notifications\",\"kind\":\"Any\",\"default\":[]},{\"name\":\"position\",\"kind\":\"Any\",\"default\":\"bottom-right\"},{\"name\":\"_clear\",\"kind\":\"Any\",\"default\":0},{\"name\":\"types\",\"kind\":\"Any\",\"default\":[{\"type\":\"map\",\"entries\":[[\"type\",\"warning\"],[\"background\",\"#ffc107\"],[\"icon\",{\"type\":\"map\",\"entries\":[[\"className\",\"fas fa-exclamation-triangle\"],[\"tagName\",\"i\"],[\"color\",\"white\"]]}]]},{\"type\":\"map\",\"entries\":[[\"type\",\"info\"],[\"background\",\"#007bff\"],[\"icon\",{\"type\":\"map\",\"entries\":[[\"className\",\"fas fa-info-circle\"],[\"tagName\",\"i\"],[\"color\",\"white\"]]}]]}]}]},{\"type\":\"model\",\"name\":\"Notification\",\"properties\":[{\"name\":\"background\",\"kind\":\"Any\",\"default\":null},{\"name\":\"duration\",\"kind\":\"Any\",\"default\":3000},{\"name\":\"icon\",\"kind\":\"Any\",\"default\":null},{\"name\":\"message\",\"kind\":\"Any\",\"default\":\"\"},{\"name\":\"notification_type\",\"kind\":\"Any\",\"default\":null},{\"name\":\"_destroyed\",\"kind\":\"Any\",\"default\":false}]},{\"type\":\"model\",\"name\":\"TemplateActions1\",\"properties\":[{\"name\":\"open_modal\",\"kind\":\"Any\",\"default\":0},{\"name\":\"close_modal\",\"kind\":\"Any\",\"default\":0}]},{\"type\":\"model\",\"name\":\"BootstrapTemplateActions1\",\"properties\":[{\"name\":\"open_modal\",\"kind\":\"Any\",\"default\":0},{\"name\":\"close_modal\",\"kind\":\"Any\",\"default\":0}]},{\"type\":\"model\",\"name\":\"TemplateEditor1\",\"properties\":[{\"name\":\"layout\",\"kind\":\"Any\",\"default\":[]}]},{\"type\":\"model\",\"name\":\"MaterialTemplateActions1\",\"properties\":[{\"name\":\"open_modal\",\"kind\":\"Any\",\"default\":0},{\"name\":\"close_modal\",\"kind\":\"Any\",\"default\":0}]},{\"type\":\"model\",\"name\":\"copy_to_clipboard1\",\"properties\":[{\"name\":\"fill\",\"kind\":\"Any\",\"default\":\"none\"},{\"name\":\"value\",\"kind\":\"Any\",\"default\":null}]}]}};\n",
       "  var render_items = [{\"docid\":\"81428e3b-72aa-4c25-b88f-9c49443a105f\",\"roots\":{\"p1207\":\"b9894ea9-a4b2-4fd7-8cb6-51f9dec1f090\"},\"root_ids\":[\"p1207\"]}];\n",
       "  var docs = Object.values(docs_json)\n",
       "  if (!docs) {\n",
       "    return\n",
       "  }\n",
       "  const py_version = docs[0].version.replace('rc', '-rc.').replace('.dev', '-dev.')\n",
       "  function embed_document(root) {\n",
       "    var Bokeh = get_bokeh(root)\n",
       "    Bokeh.embed.embed_items_notebook(docs_json, render_items);\n",
       "    for (const render_item of render_items) {\n",
       "      for (const root_id of render_item.root_ids) {\n",
       "\tconst id_el = document.getElementById(root_id)\n",
       "\tif (id_el.children.length && (id_el.children[0].className === 'bk-root')) {\n",
       "\t  const root_el = id_el.children[0]\n",
       "\t  root_el.id = root_el.id + '-rendered'\n",
       "\t}\n",
       "      }\n",
       "    }\n",
       "  }\n",
       "  function get_bokeh(root) {\n",
       "    if (root.Bokeh === undefined) {\n",
       "      return null\n",
       "    } else if (root.Bokeh.version !== py_version) {\n",
       "      if (root.Bokeh.versions === undefined || !root.Bokeh.versions.has(py_version)) {\n",
       "\treturn null\n",
       "      }\n",
       "      return root.Bokeh.versions.get(py_version);\n",
       "    } else if (root.Bokeh.version === py_version) {\n",
       "      return root.Bokeh\n",
       "    }\n",
       "    return null\n",
       "  }\n",
       "  function is_loaded(root) {\n",
       "    var Bokeh = get_bokeh(root)\n",
       "    return (Bokeh != null && Bokeh.Panel !== undefined)\n",
       "  }\n",
       "  if (is_loaded(root)) {\n",
       "    embed_document(root);\n",
       "  } else {\n",
       "    var attempts = 0;\n",
       "    var timer = setInterval(function(root) {\n",
       "      if (is_loaded(root)) {\n",
       "        clearInterval(timer);\n",
       "        embed_document(root);\n",
       "      } else if (document.readyState == \"complete\") {\n",
       "        attempts++;\n",
       "        if (attempts > 200) {\n",
       "          clearInterval(timer);\n",
       "\t  var Bokeh = get_bokeh(root)\n",
       "\t  if (Bokeh == null || Bokeh.Panel == null) {\n",
       "            console.warn(\"Panel: ERROR: Unable to run Panel code because Bokeh or Panel library is missing\");\n",
       "\t  } else {\n",
       "\t    console.warn(\"Panel: WARNING: Attempting to render but not all required libraries could be resolved.\")\n",
       "\t    embed_document(root)\n",
       "\t  }\n",
       "        }\n",
       "      }\n",
       "    }, 25, root)\n",
       "  }\n",
       "})(window);</script>"
      ],
      "text/plain": [
       ":Overlay\n",
       "   .WMTS.I   :WMTS   [Longitude,Latitude]\n",
       "   .Points.I :Points   [Lng,Lat]   (City,Humidity)"
      ]
     },
     "execution_count": 19,
     "metadata": {
      "application/vnd.holoviews_exec.v0+json": {
       "id": "p1207"
      }
     },
     "output_type": "execute_result"
    }
   ],
   "source": [
    "%%capture --no-display\n",
    "\n",
    "# Configure the map plot\n",
    "map_city_humidity = city_data_df.hvplot.points(\n",
    "    \"Lng\",\n",
    "    \"Lat\",\n",
    "    geo = True,\n",
    "    tiles = \"OSM\",\n",
    "    frame_width = 800,\n",
    "    frame_height = 600,\n",
    "    size = \"Humidity\",\n",
    "    scale = 2,\n",
    "    color = \"City\"\n",
    ")\n",
    "\n",
    "# Display the map\n",
    "map_city_humidity\n"
   ]
  },
  {
   "cell_type": "markdown",
   "metadata": {},
   "source": [
    "### Step 2: Narrow down the `city_data_df` DataFrame to find your ideal weather condition"
   ]
  },
  {
   "cell_type": "code",
   "execution_count": 20,
   "metadata": {},
   "outputs": [
    {
     "data": {
      "text/html": [
       "<div>\n",
       "<style scoped>\n",
       "    .dataframe tbody tr th:only-of-type {\n",
       "        vertical-align: middle;\n",
       "    }\n",
       "\n",
       "    .dataframe tbody tr th {\n",
       "        vertical-align: top;\n",
       "    }\n",
       "\n",
       "    .dataframe thead th {\n",
       "        text-align: right;\n",
       "    }\n",
       "</style>\n",
       "<table border=\"1\" class=\"dataframe\">\n",
       "  <thead>\n",
       "    <tr style=\"text-align: right;\">\n",
       "      <th></th>\n",
       "      <th>City_ID</th>\n",
       "      <th>City</th>\n",
       "      <th>Lat</th>\n",
       "      <th>Lng</th>\n",
       "      <th>Max Temp</th>\n",
       "      <th>Humidity</th>\n",
       "      <th>Cloudiness</th>\n",
       "      <th>Wind Speed</th>\n",
       "      <th>Country</th>\n",
       "      <th>Date</th>\n",
       "    </tr>\n",
       "  </thead>\n",
       "  <tbody>\n",
       "    <tr>\n",
       "      <th>145</th>\n",
       "      <td>145</td>\n",
       "      <td>karratha</td>\n",
       "      <td>-20.7377</td>\n",
       "      <td>116.8463</td>\n",
       "      <td>74.77</td>\n",
       "      <td>69</td>\n",
       "      <td>0</td>\n",
       "      <td>2.46</td>\n",
       "      <td>AU</td>\n",
       "      <td>1715119764</td>\n",
       "    </tr>\n",
       "  </tbody>\n",
       "</table>\n",
       "</div>"
      ],
      "text/plain": [
       "     City_ID      City      Lat       Lng  Max Temp  Humidity  Cloudiness  \\\n",
       "145      145  karratha -20.7377  116.8463     74.77        69           0   \n",
       "\n",
       "     Wind Speed Country        Date  \n",
       "145        2.46      AU  1715119764  "
      ]
     },
     "execution_count": 20,
     "metadata": {},
     "output_type": "execute_result"
    }
   ],
   "source": [
    "# Narrow down cities that fit criteria and drop any results with null values\n",
    "# Using imperial units, so 27 degrees C ~ 81 degrees F and 21 degrees C ~ 70 degrees F\n",
    "ideal_temp_df = city_data_df.loc[(city_data_df[\"Max Temp\"] <= 81) & \n",
    "                                 (city_data_df[\"Max Temp\"] >= 70) & \n",
    "                                 (city_data_df[\"Cloudiness\"] == 0) & \n",
    "                                 (city_data_df[\"Wind Speed\"] < 4.5)]\n",
    "\n",
    "# Drop any rows with null values\n",
    "clean_ideal_conditions = ideal_conditions_df.dropna()\n",
    "\n",
    "# Display sample data\n",
    "clean_ideal_conditions"
   ]
  },
  {
   "cell_type": "markdown",
   "metadata": {},
   "source": [
    "### Step 3: Create a new DataFrame called `hotel_df`."
   ]
  },
  {
   "cell_type": "code",
   "execution_count": 21,
   "metadata": {},
   "outputs": [
    {
     "data": {
      "text/html": [
       "<div>\n",
       "<style scoped>\n",
       "    .dataframe tbody tr th:only-of-type {\n",
       "        vertical-align: middle;\n",
       "    }\n",
       "\n",
       "    .dataframe tbody tr th {\n",
       "        vertical-align: top;\n",
       "    }\n",
       "\n",
       "    .dataframe thead th {\n",
       "        text-align: right;\n",
       "    }\n",
       "</style>\n",
       "<table border=\"1\" class=\"dataframe\">\n",
       "  <thead>\n",
       "    <tr style=\"text-align: right;\">\n",
       "      <th></th>\n",
       "      <th>City_ID</th>\n",
       "      <th>City</th>\n",
       "      <th>Lat</th>\n",
       "      <th>Lng</th>\n",
       "      <th>Max Temp</th>\n",
       "      <th>Humidity</th>\n",
       "      <th>Cloudiness</th>\n",
       "      <th>Wind Speed</th>\n",
       "      <th>Country</th>\n",
       "      <th>Date</th>\n",
       "      <th>Hotel Name</th>\n",
       "    </tr>\n",
       "  </thead>\n",
       "  <tbody>\n",
       "    <tr>\n",
       "      <th>145</th>\n",
       "      <td>145</td>\n",
       "      <td>karratha</td>\n",
       "      <td>-20.7377</td>\n",
       "      <td>116.8463</td>\n",
       "      <td>74.77</td>\n",
       "      <td>69</td>\n",
       "      <td>0</td>\n",
       "      <td>2.46</td>\n",
       "      <td>AU</td>\n",
       "      <td>1715119764</td>\n",
       "      <td></td>\n",
       "    </tr>\n",
       "  </tbody>\n",
       "</table>\n",
       "</div>"
      ],
      "text/plain": [
       "     City_ID      City      Lat       Lng  Max Temp  Humidity  Cloudiness  \\\n",
       "145      145  karratha -20.7377  116.8463     74.77        69           0   \n",
       "\n",
       "     Wind Speed Country        Date Hotel Name  \n",
       "145        2.46      AU  1715119764             "
      ]
     },
     "execution_count": 21,
     "metadata": {},
     "output_type": "execute_result"
    }
   ],
   "source": [
    "# Use the Pandas copy function to create DataFrame called hotel_df to store the city, country, coordinates, and humidity\n",
    "hotel_df = clean_ideal_conditions.copy(deep=True)\n",
    "\n",
    "# Add an empty column, \"Hotel Name,\" to the DataFrame so you can store the hotel found using the Geoapify API\n",
    "hotel_df[\"Hotel Name\"] = \"\"\n",
    "\n",
    "# Display sample data\n",
    "hotel_df"
   ]
  },
  {
   "cell_type": "markdown",
   "metadata": {},
   "source": [
    "### Step 4: For each city, use the Geoapify API to find the first hotel located within 10,000 metres of your coordinates."
   ]
  },
  {
   "cell_type": "code",
   "execution_count": 22,
   "metadata": {},
   "outputs": [
    {
     "name": "stdout",
     "output_type": "stream",
     "text": [
      "Starting hotel search\n",
      "karratha - nearest hotel: No hotel found\n"
     ]
    },
    {
     "data": {
      "text/html": [
       "<div>\n",
       "<style scoped>\n",
       "    .dataframe tbody tr th:only-of-type {\n",
       "        vertical-align: middle;\n",
       "    }\n",
       "\n",
       "    .dataframe tbody tr th {\n",
       "        vertical-align: top;\n",
       "    }\n",
       "\n",
       "    .dataframe thead th {\n",
       "        text-align: right;\n",
       "    }\n",
       "</style>\n",
       "<table border=\"1\" class=\"dataframe\">\n",
       "  <thead>\n",
       "    <tr style=\"text-align: right;\">\n",
       "      <th></th>\n",
       "      <th>City_ID</th>\n",
       "      <th>City</th>\n",
       "      <th>Lat</th>\n",
       "      <th>Lng</th>\n",
       "      <th>Max Temp</th>\n",
       "      <th>Humidity</th>\n",
       "      <th>Cloudiness</th>\n",
       "      <th>Wind Speed</th>\n",
       "      <th>Country</th>\n",
       "      <th>Date</th>\n",
       "      <th>Hotel Name</th>\n",
       "    </tr>\n",
       "  </thead>\n",
       "  <tbody>\n",
       "    <tr>\n",
       "      <th>145</th>\n",
       "      <td>145</td>\n",
       "      <td>karratha</td>\n",
       "      <td>-20.7377</td>\n",
       "      <td>116.8463</td>\n",
       "      <td>74.77</td>\n",
       "      <td>69</td>\n",
       "      <td>0</td>\n",
       "      <td>2.46</td>\n",
       "      <td>AU</td>\n",
       "      <td>1715119764</td>\n",
       "      <td>No hotel found</td>\n",
       "    </tr>\n",
       "  </tbody>\n",
       "</table>\n",
       "</div>"
      ],
      "text/plain": [
       "     City_ID      City      Lat       Lng  Max Temp  Humidity  Cloudiness  \\\n",
       "145      145  karratha -20.7377  116.8463     74.77        69           0   \n",
       "\n",
       "     Wind Speed Country        Date      Hotel Name  \n",
       "145        2.46      AU  1715119764  No hotel found  "
      ]
     },
     "execution_count": 22,
     "metadata": {},
     "output_type": "execute_result"
    }
   ],
   "source": [
    "# Set parameters to search for a hotel\n",
    "radius = 10000\n",
    "params = {\n",
    "    \"categories\":\"accommodation.hotel\",\n",
    "    \"apiKey\": geoapify_key,\n",
    "    \"limit\":20\n",
    "}\n",
    "\n",
    "# Print a message to follow up the hotel search\n",
    "print(\"Starting hotel search\")\n",
    "\n",
    "# Iterate through the hotel_df DataFrame\n",
    "for index, row in hotel_df.iterrows():\n",
    "    # get latitude, longitude from the DataFrame\n",
    "    latitude = row[\"Lat\"]\n",
    "    longitude = row[\"Lng\"]\n",
    "        \n",
    "    # Add filter and bias parameters with the current city's latitude and longitude to the params dictionary\n",
    "    params[\"filter\"] = f\"circle:{longitude},{latitude},{radius}\"\n",
    "    params[\"bias\"] = f\"circle:{longitude},{latitude}\"\n",
    "    \n",
    "    # Set base URL\n",
    "    base_url = \"https://api.geoapify.com/v2/places\"\n",
    "\n",
    "    # Make and API request using the params dictionaty\n",
    "    name_address = requests.get(base_url, params=params)\n",
    "    \n",
    "    # Convert the API response to JSON format\n",
    "    name_address = name_address.json()\n",
    "\n",
    "# Grab the first hotel from the results and store the name in the hotel_df DataFrame\n",
    "    try:\n",
    "        hotel_df.loc[index, \"Hotel Name\"] = name_address[\"features\"][0][\"properties\"][\"name\"]\n",
    "    except (KeyError, IndexError):\n",
    "        # If no hotel is found, set the hotel name as \"No hotel found\".\n",
    "        hotel_df.loc[index, \"Hotel Name\"] = \"No hotel found\"\n",
    "        \n",
    "    # Log the search results\n",
    "    print(f\"{hotel_df.loc[index, 'City']} - nearest hotel: {hotel_df.loc[index, 'Hotel Name']}\")\n",
    "\n",
    "# Display sample data\n",
    "hotel_df"
   ]
  },
  {
   "cell_type": "markdown",
   "metadata": {},
   "source": [
    "### Step 5: Add the hotel name and the country as additional information in the hover message for each city in the map."
   ]
  },
  {
   "cell_type": "code",
   "execution_count": 7,
   "metadata": {},
   "outputs": [
    {
     "data": {},
     "metadata": {},
     "output_type": "display_data"
    },
    {
     "data": {
      "application/vnd.holoviews_exec.v0+json": "",
      "text/html": [
       "<div id='1139'>\n",
       "  <div class=\"bk-root\" id=\"7b5a7bdc-70f8-4d0f-98b5-94088c2a4292\" data-root-id=\"1139\"></div>\n",
       "</div>\n",
       "<script type=\"application/javascript\">(function(root) {\n",
       "  function embed_document(root) {\n",
       "    var docs_json = {\"c8f53044-6bb6-451a-8ec5-6a7e93149cf2\":{\"defs\":[{\"extends\":null,\"module\":null,\"name\":\"ReactiveHTML1\",\"overrides\":[],\"properties\":[]},{\"extends\":null,\"module\":null,\"name\":\"FlexBox1\",\"overrides\":[],\"properties\":[{\"default\":\"flex-start\",\"kind\":null,\"name\":\"align_content\"},{\"default\":\"flex-start\",\"kind\":null,\"name\":\"align_items\"},{\"default\":\"row\",\"kind\":null,\"name\":\"flex_direction\"},{\"default\":\"wrap\",\"kind\":null,\"name\":\"flex_wrap\"},{\"default\":\"flex-start\",\"kind\":null,\"name\":\"justify_content\"}]},{\"extends\":null,\"module\":null,\"name\":\"GridStack1\",\"overrides\":[],\"properties\":[{\"default\":\"warn\",\"kind\":null,\"name\":\"mode\"},{\"default\":null,\"kind\":null,\"name\":\"ncols\"},{\"default\":null,\"kind\":null,\"name\":\"nrows\"},{\"default\":true,\"kind\":null,\"name\":\"allow_resize\"},{\"default\":true,\"kind\":null,\"name\":\"allow_drag\"},{\"default\":[],\"kind\":null,\"name\":\"state\"}]},{\"extends\":null,\"module\":null,\"name\":\"click1\",\"overrides\":[],\"properties\":[{\"default\":\"\",\"kind\":null,\"name\":\"terminal_output\"},{\"default\":\"\",\"kind\":null,\"name\":\"debug_name\"},{\"default\":0,\"kind\":null,\"name\":\"clears\"}]},{\"extends\":null,\"module\":null,\"name\":\"NotificationAreaBase1\",\"overrides\":[],\"properties\":[{\"default\":\"bottom-right\",\"kind\":null,\"name\":\"position\"},{\"default\":0,\"kind\":null,\"name\":\"_clear\"}]},{\"extends\":null,\"module\":null,\"name\":\"NotificationArea1\",\"overrides\":[],\"properties\":[{\"default\":[],\"kind\":null,\"name\":\"notifications\"},{\"default\":\"bottom-right\",\"kind\":null,\"name\":\"position\"},{\"default\":0,\"kind\":null,\"name\":\"_clear\"},{\"default\":[{\"background\":\"#ffc107\",\"icon\":{\"className\":\"fas fa-exclamation-triangle\",\"color\":\"white\",\"tagName\":\"i\"},\"type\":\"warning\"},{\"background\":\"#007bff\",\"icon\":{\"className\":\"fas fa-info-circle\",\"color\":\"white\",\"tagName\":\"i\"},\"type\":\"info\"}],\"kind\":null,\"name\":\"types\"}]},{\"extends\":null,\"module\":null,\"name\":\"Notification\",\"overrides\":[],\"properties\":[{\"default\":null,\"kind\":null,\"name\":\"background\"},{\"default\":3000,\"kind\":null,\"name\":\"duration\"},{\"default\":null,\"kind\":null,\"name\":\"icon\"},{\"default\":\"\",\"kind\":null,\"name\":\"message\"},{\"default\":null,\"kind\":null,\"name\":\"notification_type\"},{\"default\":false,\"kind\":null,\"name\":\"_destroyed\"}]},{\"extends\":null,\"module\":null,\"name\":\"TemplateActions1\",\"overrides\":[],\"properties\":[{\"default\":0,\"kind\":null,\"name\":\"open_modal\"},{\"default\":0,\"kind\":null,\"name\":\"close_modal\"}]},{\"extends\":null,\"module\":null,\"name\":\"MaterialTemplateActions1\",\"overrides\":[],\"properties\":[{\"default\":0,\"kind\":null,\"name\":\"open_modal\"},{\"default\":0,\"kind\":null,\"name\":\"close_modal\"}]}],\"roots\":{\"references\":[{\"attributes\":{\"dimension\":\"lat\"},\"id\":\"1186\",\"type\":\"MercatorTicker\"},{\"attributes\":{},\"id\":\"1159\",\"type\":\"LinearScale\"},{\"attributes\":{\"data\":{\"City\":[\"kapaa\",\"hilo\",\"banda\",\"makakilo city\",\"kahului\",\"gat\",\"laguna\",\"tikaitnagar\",\"san quintin\",\"santa rosalia\",\"narwar\",\"port hedland\",\"roebourne\",\"saint-francois\",\"capoterra\",\"stolac\",\"guerrero negro\"],\"Country\":[\"US\",\"US\",\"IN\",\"US\",\"US\",\"IL\",\"US\",\"IN\",\"MX\",\"MX\",\"IN\",\"AU\",\"AU\",\"FR\",\"IT\",\"BA\",\"MX\"],\"Hotel_Name\":[\"Pono Kai Resort\",\"Dolphin Bay Hotel\",\"#acnindiafy21\",\"Embassy Suites by Hilton Oahu Kapolei\",\"Maui Seaside Hotel\",\"No hotel found\",\"Holiday Inn Express & Suites\",\"No hotel found\",\"Jardines Hotel\",\"Hotel del Real\",\"No hotel found\",\"The Esplanade Hotel\",\"No hotel found\",\"Chez Lily\",\"Rosa Hotel\",\"Bregava\",\"Plaza sal paraiso\"],\"Humidity\":[84,83,52,81,60,100,79,59,74,56,55,73,65,57,71,68,68],\"Lat\":{\"__ndarray__\":\"3KYbJfY6Q0FhSt/CBhlBQaHNdnPcZEZBfDISjYWQQkGBO86NHydCQb49c55wUkxBP4+IuVeyUUEx0BImVchHQaFOkweBNEtBuNiVoOshSEFNdwQQCo1GQb1Ugi/doEHBUNKFDTUNQsGSVg5GIE5WQTmauSWzG1JBppZPzgZQVEEdIC/c9sNIQQ==\",\"dtype\":\"float64\",\"order\":\"little\",\"shape\":[17]},\"Lng\":{\"__ndarray__\":\"LFRC3+jpcMFo6zu9+XZwwTp/l8GIDmFBw1If7GTIcMEdPZcLe5xwwcrdWoV2hk1BjwXCcgTIacFYODltelJhQT+to958nmjBeJT6+C7XZ8HSQ6aKRYpgQR/EaBW4LGlBiS/zac7eaEHyNLCO7IgaQSpSPWqgei5BpfyDwauAPkFCQkjy0DdowQ==\",\"dtype\":\"float64\",\"order\":\"little\",\"shape\":[17]},\"color\":[\"kapaa\",\"hilo\",\"banda\",\"makakilo city\",\"kahului\",\"gat\",\"laguna\",\"tikaitnagar\",\"san quintin\",\"santa rosalia\",\"narwar\",\"port hedland\",\"roebourne\",\"saint-francois\",\"capoterra\",\"stolac\",\"guerrero negro\"],\"size\":{\"__ndarray__\":\"hR4VuY5UIkAonAXAijgiQPNZYUQr2BxAAAAAAAAAIkDaTk+x3vseQAAAAAAAACRAcLgta8HGIUDbnltFfrkeQE4BN/pjNCFAST9oEeruHUDY4arvL6odQKMUrqiHFiFA0LphP+AfIEBcz1bMBzMeQAb7lU0w2iBAB+2vZg9+IEAH7a9mD34gQA==\",\"dtype\":\"float64\",\"order\":\"little\",\"shape\":[17]}},\"selected\":{\"id\":\"1217\"},\"selection_policy\":{\"id\":\"1229\"}},\"id\":\"1216\",\"type\":\"ColumnDataSource\"},{\"attributes\":{\"bottom_units\":\"screen\",\"coordinates\":null,\"fill_alpha\":0.5,\"fill_color\":\"lightgrey\",\"group\":null,\"left_units\":\"screen\",\"level\":\"overlay\",\"line_alpha\":1.0,\"line_color\":\"black\",\"line_dash\":[4,4],\"line_width\":2,\"right_units\":\"screen\",\"syncable\":false,\"top_units\":\"screen\"},\"id\":\"1174\",\"type\":\"BoxAnnotation\"},{\"attributes\":{\"coordinates\":null,\"group\":null,\"level\":\"glyph\",\"tile_source\":{\"id\":\"1210\"}},\"id\":\"1213\",\"type\":\"TileRenderer\"},{\"attributes\":{\"source\":{\"id\":\"1216\"}},\"id\":\"1225\",\"type\":\"CDSView\"},{\"attributes\":{\"margin\":[5,5,5,5],\"name\":\"HSpacer01686\",\"sizing_mode\":\"stretch_width\"},\"id\":\"1140\",\"type\":\"Spacer\"},{\"attributes\":{\"attribution\":\"&copy; <a href=\\\"https://www.openstreetmap.org/copyright\\\">OpenStreetMap</a> contributors\",\"url\":\"https://c.tile.openstreetmap.org/{Z}/{X}/{Y}.png\"},\"id\":\"1210\",\"type\":\"WMTSTileSource\"},{\"attributes\":{\"coordinates\":null,\"data_source\":{\"id\":\"1216\"},\"glyph\":{\"id\":\"1219\"},\"group\":null,\"hover_glyph\":{\"id\":\"1222\"},\"muted_glyph\":{\"id\":\"1223\"},\"nonselection_glyph\":{\"id\":\"1220\"},\"selection_glyph\":{\"id\":\"1221\"},\"view\":{\"id\":\"1225\"}},\"id\":\"1224\",\"type\":\"GlyphRenderer\"},{\"attributes\":{\"axis\":{\"id\":\"1161\"},\"coordinates\":null,\"grid_line_color\":null,\"group\":null,\"ticker\":null},\"id\":\"1164\",\"type\":\"Grid\"},{\"attributes\":{\"click_policy\":\"mute\",\"coordinates\":null,\"group\":null,\"items\":[{\"id\":\"1233\"}],\"location\":[0,0]},\"id\":\"1232\",\"type\":\"Legend\"},{\"attributes\":{\"axis_label\":\"x\",\"coordinates\":null,\"formatter\":{\"id\":\"1185\"},\"group\":null,\"major_label_policy\":{\"id\":\"1190\"},\"ticker\":{\"id\":\"1184\"}},\"id\":\"1161\",\"type\":\"LinearAxis\"},{\"attributes\":{\"fill_alpha\":{\"value\":0.5},\"fill_color\":{\"field\":\"color\",\"transform\":{\"id\":\"1215\"}},\"hatch_alpha\":{\"value\":0.5},\"hatch_color\":{\"field\":\"color\",\"transform\":{\"id\":\"1215\"}},\"line_alpha\":{\"value\":0.5},\"line_color\":{\"field\":\"color\",\"transform\":{\"id\":\"1215\"}},\"size\":{\"field\":\"size\"},\"x\":{\"field\":\"Lng\"},\"y\":{\"field\":\"Lat\"}},\"id\":\"1222\",\"type\":\"Scatter\"},{\"attributes\":{\"zoom_on_axis\":false},\"id\":\"1171\",\"type\":\"WheelZoomTool\"},{\"attributes\":{},\"id\":\"1217\",\"type\":\"Selection\"},{\"attributes\":{},\"id\":\"1229\",\"type\":\"UnionRenderers\"},{\"attributes\":{},\"id\":\"1170\",\"type\":\"PanTool\"},{\"attributes\":{},\"id\":\"1157\",\"type\":\"LinearScale\"},{\"attributes\":{\"coordinates\":null,\"group\":null,\"text_color\":\"black\",\"text_font_size\":\"12pt\"},\"id\":\"1153\",\"type\":\"Title\"},{\"attributes\":{\"code\":\"\\n        var projections = Bokeh.require(\\\"core/util/projections\\\");\\n        var x = special_vars.data_x\\n        var y = special_vars.data_y\\n        if (projections.wgs84_mercator.invert == null) {\\n          var coords = projections.wgs84_mercator.inverse([x, y])\\n        } else {\\n          var coords = projections.wgs84_mercator.invert(x, y)\\n        }\\n        return \\\"\\\" + (coords[1]).toFixed(4)\\n    \"},\"id\":\"1235\",\"type\":\"CustomJSHover\"},{\"attributes\":{\"fill_alpha\":{\"value\":0.5},\"fill_color\":{\"field\":\"color\",\"transform\":{\"id\":\"1215\"}},\"hatch_alpha\":{\"value\":0.5},\"hatch_color\":{\"field\":\"color\",\"transform\":{\"id\":\"1215\"}},\"line_alpha\":{\"value\":0.5},\"line_color\":{\"field\":\"color\",\"transform\":{\"id\":\"1215\"}},\"size\":{\"field\":\"size\"},\"x\":{\"field\":\"Lng\"},\"y\":{\"field\":\"Lat\"}},\"id\":\"1219\",\"type\":\"Scatter\"},{\"attributes\":{\"children\":[{\"id\":\"1140\"},{\"id\":\"1152\"},{\"id\":\"1242\"}],\"margin\":[0,0,0,0],\"name\":\"Row01682\",\"tags\":[\"embedded\"]},\"id\":\"1139\",\"type\":\"Row\"},{\"attributes\":{\"callback\":null,\"formatters\":{\"$x\":{\"id\":\"1234\"},\"$y\":{\"id\":\"1235\"}},\"renderers\":[{\"id\":\"1224\"}],\"tags\":[\"hv_created\"],\"tooltips\":[[\"Lng\",\"$x{custom}\"],[\"Lat\",\"$y{custom}\"],[\"City\",\"@{City}\"],[\"Humidity\",\"@{Humidity}\"],[\"Hotel Name\",\"@{Hotel_Name}\"],[\"Country\",\"@{Country}\"]]},\"id\":\"1149\",\"type\":\"HoverTool\"},{\"attributes\":{},\"id\":\"1173\",\"type\":\"ResetTool\"},{\"attributes\":{\"fill_alpha\":{\"value\":0.2},\"fill_color\":{\"field\":\"color\",\"transform\":{\"id\":\"1215\"}},\"hatch_alpha\":{\"value\":0.2},\"hatch_color\":{\"field\":\"color\",\"transform\":{\"id\":\"1215\"}},\"line_alpha\":{\"value\":0.2},\"line_color\":{\"field\":\"color\",\"transform\":{\"id\":\"1215\"}},\"size\":{\"field\":\"size\"},\"x\":{\"field\":\"Lng\"},\"y\":{\"field\":\"Lat\"}},\"id\":\"1223\",\"type\":\"Scatter\"},{\"attributes\":{\"end\":14366716.452919383,\"min_interval\":5,\"reset_end\":14366716.452919383,\"reset_start\":-10885605.506340533,\"start\":-10885605.506340533,\"tags\":[[[\"Lat\",\"Lat\",null]]]},\"id\":\"1146\",\"type\":\"Range1d\"},{\"attributes\":{},\"id\":\"1197\",\"type\":\"AllLabels\"},{\"attributes\":{\"axis_label\":\"y\",\"coordinates\":null,\"formatter\":{\"id\":\"1187\"},\"group\":null,\"major_label_policy\":{\"id\":\"1197\"},\"ticker\":{\"id\":\"1186\"}},\"id\":\"1165\",\"type\":\"LinearAxis\"},{\"attributes\":{\"end\":15408362.72915458,\"min_interval\":5,\"reset_end\":15408362.72915458,\"reset_start\":-19944888.0138093,\"start\":-19944888.0138093,\"tags\":[[[\"Lng\",\"Lng\",null]]]},\"id\":\"1145\",\"type\":\"Range1d\"},{\"attributes\":{\"below\":[{\"id\":\"1161\"}],\"center\":[{\"id\":\"1164\"},{\"id\":\"1168\"}],\"frame_height\":500,\"frame_width\":700,\"height\":null,\"left\":[{\"id\":\"1165\"}],\"margin\":[5,5,5,5],\"match_aspect\":true,\"min_border_bottom\":10,\"min_border_left\":10,\"min_border_right\":10,\"min_border_top\":10,\"renderers\":[{\"id\":\"1213\"},{\"id\":\"1224\"}],\"right\":[{\"id\":\"1232\"}],\"sizing_mode\":\"fixed\",\"title\":{\"id\":\"1153\"},\"toolbar\":{\"id\":\"1175\"},\"width\":null,\"x_range\":{\"id\":\"1145\"},\"x_scale\":{\"id\":\"1157\"},\"y_range\":{\"id\":\"1146\"},\"y_scale\":{\"id\":\"1159\"}},\"id\":\"1152\",\"subtype\":\"Figure\",\"type\":\"Plot\"},{\"attributes\":{\"axis\":{\"id\":\"1165\"},\"coordinates\":null,\"dimension\":1,\"grid_line_color\":null,\"group\":null,\"ticker\":null},\"id\":\"1168\",\"type\":\"Grid\"},{\"attributes\":{\"label\":{\"field\":\"color\"},\"renderers\":[{\"id\":\"1224\"}]},\"id\":\"1233\",\"type\":\"LegendItem\"},{\"attributes\":{},\"id\":\"1190\",\"type\":\"AllLabels\"},{\"attributes\":{\"fill_alpha\":{\"value\":0.5},\"fill_color\":{\"field\":\"color\",\"transform\":{\"id\":\"1215\"}},\"hatch_alpha\":{\"value\":0.1},\"hatch_color\":{\"field\":\"color\",\"transform\":{\"id\":\"1215\"}},\"line_alpha\":{\"value\":0.5},\"line_color\":{\"field\":\"color\",\"transform\":{\"id\":\"1215\"}},\"size\":{\"field\":\"size\"},\"x\":{\"field\":\"Lng\"},\"y\":{\"field\":\"Lat\"}},\"id\":\"1220\",\"type\":\"Scatter\"},{\"attributes\":{\"dimension\":\"lon\"},\"id\":\"1185\",\"type\":\"MercatorTickFormatter\"},{\"attributes\":{\"tools\":[{\"id\":\"1149\"},{\"id\":\"1169\"},{\"id\":\"1170\"},{\"id\":\"1171\"},{\"id\":\"1172\"},{\"id\":\"1173\"}]},\"id\":\"1175\",\"type\":\"Toolbar\"},{\"attributes\":{\"dimension\":\"lat\"},\"id\":\"1187\",\"type\":\"MercatorTickFormatter\"},{\"attributes\":{},\"id\":\"1169\",\"type\":\"SaveTool\"},{\"attributes\":{\"factors\":[\"kapaa\",\"hilo\",\"banda\",\"makakilo city\",\"kahului\",\"gat\",\"laguna\",\"tikaitnagar\",\"san quintin\",\"santa rosalia\",\"narwar\",\"port hedland\",\"roebourne\",\"saint-francois\",\"capoterra\",\"stolac\",\"guerrero negro\"],\"palette\":[\"#1f77b3\",\"#ff7e0e\",\"#2ba02b\",\"#d62628\",\"#9367bc\",\"#8c564b\",\"#e277c1\",\"#7e7e7e\",\"#bcbc21\",\"#16bdcf\",\"#3a0182\",\"#004201\",\"#0fffa8\",\"#5d003f\",\"#bcbcff\",\"#d8afa1\",\"#b80080\"]},\"id\":\"1215\",\"type\":\"CategoricalColorMapper\"},{\"attributes\":{\"code\":\"\\n        var projections = Bokeh.require(\\\"core/util/projections\\\");\\n        var x = special_vars.data_x\\n        var y = special_vars.data_y\\n        if (projections.wgs84_mercator.invert == null) {\\n          var coords = projections.wgs84_mercator.inverse([x, y])\\n        } else {\\n          var coords = projections.wgs84_mercator.invert(x, y)\\n        }\\n        return \\\"\\\" + (coords[0]).toFixed(4)\\n    \"},\"id\":\"1234\",\"type\":\"CustomJSHover\"},{\"attributes\":{\"match_aspect\":true,\"overlay\":{\"id\":\"1174\"}},\"id\":\"1172\",\"type\":\"BoxZoomTool\"},{\"attributes\":{\"margin\":[5,5,5,5],\"name\":\"HSpacer01687\",\"sizing_mode\":\"stretch_width\"},\"id\":\"1242\",\"type\":\"Spacer\"},{\"attributes\":{\"fill_alpha\":{\"value\":0.5},\"fill_color\":{\"field\":\"color\",\"transform\":{\"id\":\"1215\"}},\"hatch_alpha\":{\"value\":0.5},\"hatch_color\":{\"field\":\"color\",\"transform\":{\"id\":\"1215\"}},\"line_alpha\":{\"value\":0.5},\"line_color\":{\"field\":\"color\",\"transform\":{\"id\":\"1215\"}},\"size\":{\"field\":\"size\"},\"x\":{\"field\":\"Lng\"},\"y\":{\"field\":\"Lat\"}},\"id\":\"1221\",\"type\":\"Scatter\"},{\"attributes\":{\"dimension\":\"lon\"},\"id\":\"1184\",\"type\":\"MercatorTicker\"}],\"root_ids\":[\"1139\"]},\"title\":\"Bokeh Application\",\"version\":\"2.4.3\"}};\n",
       "    var render_items = [{\"docid\":\"c8f53044-6bb6-451a-8ec5-6a7e93149cf2\",\"root_ids\":[\"1139\"],\"roots\":{\"1139\":\"7b5a7bdc-70f8-4d0f-98b5-94088c2a4292\"}}];\n",
       "    root.Bokeh.embed.embed_items_notebook(docs_json, render_items);\n",
       "    for (const render_item of render_items) {\n",
       "      for (const root_id of render_item.root_ids) {\n",
       "\tconst id_el = document.getElementById(root_id)\n",
       "\tif (id_el.children.length && (id_el.children[0].className === 'bk-root')) {\n",
       "\t  const root_el = id_el.children[0]\n",
       "\t  root_el.id = root_el.id + '-rendered'\n",
       "\t}\n",
       "      }\n",
       "    }\n",
       "  }\n",
       "  if (root.Bokeh !== undefined && root.Bokeh.Panel !== undefined) {\n",
       "    embed_document(root);\n",
       "  } else {\n",
       "    var attempts = 0;\n",
       "    var timer = setInterval(function(root) {\n",
       "      if (root.Bokeh !== undefined && root.Bokeh.Panel !== undefined) {\n",
       "        clearInterval(timer);\n",
       "        embed_document(root);\n",
       "      } else if (document.readyState == \"complete\") {\n",
       "        attempts++;\n",
       "        if (attempts > 200) {\n",
       "          clearInterval(timer);\n",
       "          console.log(\"Bokeh: ERROR: Unable to run BokehJS code because BokehJS library is missing\");\n",
       "        }\n",
       "      }\n",
       "    }, 25, root)\n",
       "  }\n",
       "})(window);</script>"
      ],
      "text/plain": [
       ":Overlay\n",
       "   .Tiles.I  :Tiles   [x,y]\n",
       "   .Points.I :Points   [Lng,Lat]   (City,Humidity,Hotel Name,Country)"
      ]
     },
     "execution_count": 7,
     "metadata": {
      "application/vnd.holoviews_exec.v0+json": {
       "id": "1139"
      }
     },
     "output_type": "execute_result"
    }
   ],
   "source": [
    "%%capture --no-display\n",
    "\n",
    "# Configure the map plot\n",
    "# YOUR CODE HERE\n",
    "\n",
    "# Display the map\n",
    "# YOUR CODE HERE"
   ]
  },
  {
   "cell_type": "code",
   "execution_count": null,
   "metadata": {},
   "outputs": [],
   "source": []
  }
 ],
 "metadata": {
  "kernelspec": {
   "display_name": "Python 3 (ipykernel)",
   "language": "python",
   "name": "python3"
  },
  "language_info": {
   "codemirror_mode": {
    "name": "ipython",
    "version": 3
   },
   "file_extension": ".py",
   "mimetype": "text/x-python",
   "name": "python",
   "nbconvert_exporter": "python",
   "pygments_lexer": "ipython3",
   "version": "3.10.14"
  },
  "latex_envs": {
   "LaTeX_envs_menu_present": true,
   "autoclose": false,
   "autocomplete": true,
   "bibliofile": "biblio.bib",
   "cite_by": "apalike",
   "current_citInitial": 1,
   "eqLabelWithNumbers": true,
   "eqNumInitial": 1,
   "hotkeys": {
    "equation": "Ctrl-E",
    "itemize": "Ctrl-I"
   },
   "labels_anchors": false,
   "latex_user_defs": false,
   "report_style_numbering": false,
   "user_envs_cfg": false
  }
 },
 "nbformat": 4,
 "nbformat_minor": 4
}
